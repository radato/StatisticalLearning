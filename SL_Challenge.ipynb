{
 "cells": [
  {
   "cell_type": "markdown",
   "metadata": {},
   "source": [
    "# Initialize and load data"
   ]
  },
  {
   "cell_type": "code",
   "execution_count": 3,
   "metadata": {},
   "outputs": [],
   "source": [
    "%run ../base.ipy"
   ]
  },
  {
   "cell_type": "code",
   "execution_count": 4,
   "metadata": {},
   "outputs": [
    {
     "name": "stdout",
     "output_type": "stream",
     "text": [
      "The scikit-learn version is 0.17.\n"
     ]
    }
   ],
   "source": [
    "#in CMD, write \"jupyter notebook\"\n",
    "%matplotlib inline\n",
    "\n",
    "import numpy as np\n",
    "import pandas as pd\n",
    "import matplotlib.pyplot as plt\n",
    "import scipy \n",
    "from sklearn import linear_model    # we use 'LinearRegression()' in it\n",
    "from sklearn import cross_validation #model_selection\n",
    "#from sklearn import model_selection #model_selection\n",
    "\n",
    "#from sklearn.model_selection import train_test_split\n",
    "import sklearn\n",
    "print('The scikit-learn version is {}.'.format(sklearn.__version__))"
   ]
  },
  {
   "cell_type": "code",
   "execution_count": 5,
   "metadata": {},
   "outputs": [
    {
     "name": "stdout",
     "output_type": "stream",
     "text": [
      "(10000L, 99L)\n"
     ]
    }
   ],
   "source": [
    "file_name = 'C:\\\\Users\\\\Roberta\\\\PycharmProjects\\\\Netflix\\\\data\\\\train_ratings_all.dat'\n",
    "tr_x = np.loadtxt(file_name,dtype='int')\n",
    "print(tr_x.shape)"
   ]
  },
  {
   "cell_type": "code",
   "execution_count": 6,
   "metadata": {},
   "outputs": [
    {
     "name": "stdout",
     "output_type": "stream",
     "text": [
      "(10000L,)\n"
     ]
    }
   ],
   "source": [
    "file_name = 'C:\\\\Users\\\\Roberta\\\\PycharmProjects\\\\Netflix\\\\data\\\\train_y_rating.dat'\n",
    "tr_y = np.loadtxt(file_name,dtype='int')\n",
    "print(tr_y.shape)"
   ]
  },
  {
   "cell_type": "code",
   "execution_count": 7,
   "metadata": {},
   "outputs": [
    {
     "name": "stdout",
     "output_type": "stream",
     "text": [
      "(10000L,)\n"
     ]
    }
   ],
   "source": [
    "file_name = 'C:\\\\Users\\\\Roberta\\\\PycharmProjects\\\\Netflix\\\\data\\\\train_y_date.dat'\n",
    "tr_y_date = np.loadtxt(file_name,dtype='int')\n",
    "print(tr_y_date.shape)"
   ]
  },
  {
   "cell_type": "code",
   "execution_count": 8,
   "metadata": {},
   "outputs": [
    {
     "data": {
      "text/plain": [
       "array([2544, 2662, 2803, ..., 1265, 2667, 2728])"
      ]
     },
     "execution_count": 8,
     "output_type": "execute_result",
     "metadata": {}
    }
   ],
   "source": [
    "tr_y_date"
   ]
  },
  {
   "cell_type": "code",
   "execution_count": 9,
   "metadata": {},
   "outputs": [
    {
     "data": {
      "text/plain": [
       "9900"
      ]
     },
     "execution_count": 9,
     "output_type": "execute_result",
     "metadata": {}
    }
   ],
   "source": [
    "a=tr_x[0:100]\n",
    "\n",
    "a.size"
   ]
  },
  {
   "cell_type": "markdown",
   "metadata": {},
   "source": [
    "#### build Data Frame of the data"
   ]
  },
  {
   "cell_type": "code",
   "execution_count": 10,
   "metadata": {},
   "outputs": [
    {
     "data": {
      "text/plain": [
       "['Independence Day',\n",
       " 'The Patriot',\n",
       " 'The Day After Tomorrow',\n",
       " 'Pirates of the Caribbean: The Curse of the Black Pearl',\n",
       " 'Pretty Woman',\n",
       " 'Forrest Gump',\n",
       " 'The Green Mile',\n",
       " 'Con Air',\n",
       " 'Twister',\n",
       " 'Sweet Home Alabama',\n",
       " 'Pearl Harbor',\n",
       " 'Armageddon',\n",
       " 'The Rock',\n",
       " 'What Women Want']"
      ]
     },
     "execution_count": 10,
     "output_type": "execute_result",
     "metadata": {}
    }
   ],
   "source": [
    "file_name = 'C:\\\\Users\\\\Roberta\\\\PycharmProjects\\\\Netflix\\\\data\\\\movie_titles.txt'\n",
    "namesfile = open(file_name,\"r\")\n",
    "colnametmp = [line[5:-1] for line in namesfile]\n",
    "colnames = colnametmp[0:99]\n",
    "colnames[0:14]"
   ]
  },
  {
   "cell_type": "code",
   "execution_count": 11,
   "metadata": {},
   "outputs": [
    {
     "data": {
      "text/plain": [
       "(10000L, 100L)"
      ]
     },
     "execution_count": 11,
     "output_type": "execute_result",
     "metadata": {}
    }
   ],
   "source": [
    "# append the 'tr_y' as a column of the matrix 'tr_x'\n",
    "tr_yy = tr_y.reshape(10000,1)\n",
    "data = np.append(tr_x, tr_yy,axis=1)\n",
    "data.shape"
   ]
  },
  {
   "cell_type": "code",
   "execution_count": 12,
   "metadata": {},
   "outputs": [],
   "source": [
    "# create a data frame with the first 14 movies as columns\n",
    "df = pd.DataFrame(tr_x[:,0:14], columns  = colnames[0:14])"
   ]
  },
  {
   "cell_type": "code",
   "execution_count": 13,
   "metadata": {},
   "outputs": [
    {
     "data": {
      "text/html": [
       "<div>\n",
       "<table border=\"1\" class=\"dataframe\">\n",
       "  <thead>\n",
       "    <tr style=\"text-align: right;\">\n",
       "      <th></th>\n",
       "      <th>Independence Day</th>\n",
       "      <th>The Patriot</th>\n",
       "      <th>The Day After Tomorrow</th>\n",
       "      <th>Pirates of the Caribbean: The Curse of the Black Pearl</th>\n",
       "      <th>Pretty Woman</th>\n",
       "      <th>Forrest Gump</th>\n",
       "      <th>The Green Mile</th>\n",
       "      <th>Con Air</th>\n",
       "      <th>Twister</th>\n",
       "      <th>Sweet Home Alabama</th>\n",
       "      <th>Pearl Harbor</th>\n",
       "      <th>Armageddon</th>\n",
       "      <th>The Rock</th>\n",
       "      <th>What Women Want</th>\n",
       "      <th>v1</th>\n",
       "    </tr>\n",
       "  </thead>\n",
       "  <tbody>\n",
       "    <tr>\n",
       "      <th>0</th>\n",
       "      <td>4</td>\n",
       "      <td>4</td>\n",
       "      <td>3</td>\n",
       "      <td>5</td>\n",
       "      <td>4</td>\n",
       "      <td>5</td>\n",
       "      <td>4</td>\n",
       "      <td>4</td>\n",
       "      <td>5</td>\n",
       "      <td>4</td>\n",
       "      <td>4</td>\n",
       "      <td>4</td>\n",
       "      <td>4</td>\n",
       "      <td>5</td>\n",
       "      <td>4</td>\n",
       "    </tr>\n",
       "    <tr>\n",
       "      <th>1</th>\n",
       "      <td>4</td>\n",
       "      <td>5</td>\n",
       "      <td>3</td>\n",
       "      <td>3</td>\n",
       "      <td>4</td>\n",
       "      <td>3</td>\n",
       "      <td>4</td>\n",
       "      <td>4</td>\n",
       "      <td>3</td>\n",
       "      <td>2</td>\n",
       "      <td>3</td>\n",
       "      <td>4</td>\n",
       "      <td>4</td>\n",
       "      <td>4</td>\n",
       "      <td>3</td>\n",
       "    </tr>\n",
       "    <tr>\n",
       "      <th>2</th>\n",
       "      <td>5</td>\n",
       "      <td>5</td>\n",
       "      <td>5</td>\n",
       "      <td>5</td>\n",
       "      <td>4</td>\n",
       "      <td>5</td>\n",
       "      <td>4</td>\n",
       "      <td>3</td>\n",
       "      <td>4</td>\n",
       "      <td>5</td>\n",
       "      <td>5</td>\n",
       "      <td>4</td>\n",
       "      <td>4</td>\n",
       "      <td>4</td>\n",
       "      <td>3</td>\n",
       "    </tr>\n",
       "    <tr>\n",
       "      <th>3</th>\n",
       "      <td>5</td>\n",
       "      <td>5</td>\n",
       "      <td>5</td>\n",
       "      <td>5</td>\n",
       "      <td>4</td>\n",
       "      <td>5</td>\n",
       "      <td>5</td>\n",
       "      <td>3</td>\n",
       "      <td>4</td>\n",
       "      <td>5</td>\n",
       "      <td>5</td>\n",
       "      <td>5</td>\n",
       "      <td>5</td>\n",
       "      <td>4</td>\n",
       "      <td>5</td>\n",
       "    </tr>\n",
       "    <tr>\n",
       "      <th>4</th>\n",
       "      <td>5</td>\n",
       "      <td>5</td>\n",
       "      <td>5</td>\n",
       "      <td>5</td>\n",
       "      <td>5</td>\n",
       "      <td>5</td>\n",
       "      <td>5</td>\n",
       "      <td>5</td>\n",
       "      <td>5</td>\n",
       "      <td>5</td>\n",
       "      <td>5</td>\n",
       "      <td>4</td>\n",
       "      <td>4</td>\n",
       "      <td>3</td>\n",
       "      <td>5</td>\n",
       "    </tr>\n",
       "  </tbody>\n",
       "</table>\n",
       "</div>"
      ]
     },
     "output_type": "execute_result",
     "metadata": {}
    }
   ],
   "source": [
    "df['v1'] = tr_y\n",
    "df.head(5)"
   ]
  },
  {
   "cell_type": "code",
   "execution_count": 14,
   "metadata": {},
   "outputs": [
    {
     "data": {
      "text/html": [
       "<div>\n",
       "<table border=\"1\" class=\"dataframe\">\n",
       "  <thead>\n",
       "    <tr style=\"text-align: right;\">\n",
       "      <th></th>\n",
       "      <th>Independence Day</th>\n",
       "      <th>The Patriot</th>\n",
       "      <th>The Day After Tomorrow</th>\n",
       "      <th>Pirates of the Caribbean: The Curse of the Black Pearl</th>\n",
       "      <th>Pretty Woman</th>\n",
       "      <th>Forrest Gump</th>\n",
       "      <th>The Green Mile</th>\n",
       "      <th>Con Air</th>\n",
       "      <th>Twister</th>\n",
       "      <th>Sweet Home Alabama</th>\n",
       "      <th>Pearl Harbor</th>\n",
       "      <th>Armageddon</th>\n",
       "      <th>The Rock</th>\n",
       "      <th>What Women Want</th>\n",
       "      <th>v1</th>\n",
       "    </tr>\n",
       "  </thead>\n",
       "  <tbody>\n",
       "    <tr>\n",
       "      <th>count</th>\n",
       "      <td>10000.000000</td>\n",
       "      <td>10000.000000</td>\n",
       "      <td>10000.000000</td>\n",
       "      <td>10000.000000</td>\n",
       "      <td>10000.000000</td>\n",
       "      <td>10000.000000</td>\n",
       "      <td>10000.000000</td>\n",
       "      <td>10000.000000</td>\n",
       "      <td>10000.000000</td>\n",
       "      <td>10000.000000</td>\n",
       "      <td>10000.000000</td>\n",
       "      <td>10000.000000</td>\n",
       "      <td>10000.000000</td>\n",
       "      <td>10000.00000</td>\n",
       "      <td>10000.000000</td>\n",
       "    </tr>\n",
       "    <tr>\n",
       "      <th>mean</th>\n",
       "      <td>4.137700</td>\n",
       "      <td>4.108400</td>\n",
       "      <td>3.703600</td>\n",
       "      <td>4.350300</td>\n",
       "      <td>4.073900</td>\n",
       "      <td>4.512300</td>\n",
       "      <td>4.449100</td>\n",
       "      <td>3.723300</td>\n",
       "      <td>3.752600</td>\n",
       "      <td>3.679700</td>\n",
       "      <td>3.731500</td>\n",
       "      <td>4.020200</td>\n",
       "      <td>4.017100</td>\n",
       "      <td>3.70620</td>\n",
       "      <td>3.614200</td>\n",
       "    </tr>\n",
       "    <tr>\n",
       "      <th>std</th>\n",
       "      <td>0.806848</td>\n",
       "      <td>0.885623</td>\n",
       "      <td>0.965008</td>\n",
       "      <td>0.794766</td>\n",
       "      <td>0.878587</td>\n",
       "      <td>0.721319</td>\n",
       "      <td>0.741528</td>\n",
       "      <td>0.896001</td>\n",
       "      <td>0.903701</td>\n",
       "      <td>0.966023</td>\n",
       "      <td>1.034464</td>\n",
       "      <td>0.892453</td>\n",
       "      <td>0.825637</td>\n",
       "      <td>0.91835</td>\n",
       "      <td>0.961276</td>\n",
       "    </tr>\n",
       "    <tr>\n",
       "      <th>min</th>\n",
       "      <td>1.000000</td>\n",
       "      <td>1.000000</td>\n",
       "      <td>1.000000</td>\n",
       "      <td>1.000000</td>\n",
       "      <td>1.000000</td>\n",
       "      <td>1.000000</td>\n",
       "      <td>1.000000</td>\n",
       "      <td>1.000000</td>\n",
       "      <td>1.000000</td>\n",
       "      <td>1.000000</td>\n",
       "      <td>1.000000</td>\n",
       "      <td>1.000000</td>\n",
       "      <td>1.000000</td>\n",
       "      <td>1.00000</td>\n",
       "      <td>1.000000</td>\n",
       "    </tr>\n",
       "    <tr>\n",
       "      <th>25%</th>\n",
       "      <td>4.000000</td>\n",
       "      <td>4.000000</td>\n",
       "      <td>3.000000</td>\n",
       "      <td>4.000000</td>\n",
       "      <td>4.000000</td>\n",
       "      <td>4.000000</td>\n",
       "      <td>4.000000</td>\n",
       "      <td>3.000000</td>\n",
       "      <td>3.000000</td>\n",
       "      <td>3.000000</td>\n",
       "      <td>3.000000</td>\n",
       "      <td>3.000000</td>\n",
       "      <td>4.000000</td>\n",
       "      <td>3.00000</td>\n",
       "      <td>3.000000</td>\n",
       "    </tr>\n",
       "    <tr>\n",
       "      <th>50%</th>\n",
       "      <td>4.000000</td>\n",
       "      <td>4.000000</td>\n",
       "      <td>4.000000</td>\n",
       "      <td>5.000000</td>\n",
       "      <td>4.000000</td>\n",
       "      <td>5.000000</td>\n",
       "      <td>5.000000</td>\n",
       "      <td>4.000000</td>\n",
       "      <td>4.000000</td>\n",
       "      <td>4.000000</td>\n",
       "      <td>4.000000</td>\n",
       "      <td>4.000000</td>\n",
       "      <td>4.000000</td>\n",
       "      <td>4.00000</td>\n",
       "      <td>4.000000</td>\n",
       "    </tr>\n",
       "    <tr>\n",
       "      <th>75%</th>\n",
       "      <td>5.000000</td>\n",
       "      <td>5.000000</td>\n",
       "      <td>4.000000</td>\n",
       "      <td>5.000000</td>\n",
       "      <td>5.000000</td>\n",
       "      <td>5.000000</td>\n",
       "      <td>5.000000</td>\n",
       "      <td>4.000000</td>\n",
       "      <td>4.000000</td>\n",
       "      <td>4.000000</td>\n",
       "      <td>5.000000</td>\n",
       "      <td>5.000000</td>\n",
       "      <td>5.000000</td>\n",
       "      <td>4.00000</td>\n",
       "      <td>4.000000</td>\n",
       "    </tr>\n",
       "    <tr>\n",
       "      <th>max</th>\n",
       "      <td>5.000000</td>\n",
       "      <td>5.000000</td>\n",
       "      <td>5.000000</td>\n",
       "      <td>5.000000</td>\n",
       "      <td>5.000000</td>\n",
       "      <td>5.000000</td>\n",
       "      <td>5.000000</td>\n",
       "      <td>5.000000</td>\n",
       "      <td>5.000000</td>\n",
       "      <td>5.000000</td>\n",
       "      <td>5.000000</td>\n",
       "      <td>5.000000</td>\n",
       "      <td>5.000000</td>\n",
       "      <td>5.00000</td>\n",
       "      <td>5.000000</td>\n",
       "    </tr>\n",
       "  </tbody>\n",
       "</table>\n",
       "</div>"
      ]
     },
     "output_type": "execute_result",
     "metadata": {}
    }
   ],
   "source": [
    "df.describe()"
   ]
  },
  {
   "cell_type": "code",
   "execution_count": 15,
   "metadata": {},
   "outputs": [],
   "source": [
    "#pandas.tools.plotting.scatter_matrix(pd)"
   ]
  },
  {
   "cell_type": "markdown",
   "metadata": {},
   "source": [
    "### Analyze the data - initial steps"
   ]
  },
  {
   "cell_type": "markdown",
   "metadata": {},
   "source": [
    "##### \"What rankings does our target get ?\""
   ]
  },
  {
   "cell_type": "code",
   "execution_count": 16,
   "metadata": {},
   "outputs": [
    {
     "data": {
      "text/plain": [
       "(array([  217.,     0.,   870.,     0.,     0.,  3381.,     0.,  3618.,\n",
       "            0.,  1914.]),\n",
       " array([ 1. ,  1.4,  1.8,  2.2,  2.6,  3. ,  3.4,  3.8,  4.2,  4.6,  5. ]),\n",
       " <a list of 10 Patch objects>)"
      ]
     },
     "execution_count": 16,
     "output_type": "execute_result",
     "metadata": {}
    },
    {
     "data": {
      "image/png": "[encoded data removed]"
     },
     "output_type": "display_data",
     "metadata": {}
    }
   ],
   "source": [
    "# Show histogram of the 'y' (rating of movie #100)\n",
    "plt.hist(tr_y)  # plt.hist passes it's arguments to np.histogram \", bins='auto'\"\n",
    "#plt.title(\"Histogram with 'auto' bins\")\n",
    "#plt.show()"
   ]
  },
  {
   "cell_type": "markdown",
   "metadata": {},
   "source": [
    "##### \"Which movies are liked ?\""
   ]
  },
  {
   "cell_type": "code",
   "execution_count": 17,
   "metadata": {},
   "outputs": [
    {
     "data": {
      "text/plain": [
       "Independence Day                                          4.1377\n",
       "The Patriot                                               4.1084\n",
       "The Day After Tomorrow                                    3.7036\n",
       "Pirates of the Caribbean: The Curse of the Black Pearl    4.3503\n",
       "Pretty Woman                                              4.0739\n",
       "Forrest Gump                                              4.5123\n",
       "The Green Mile                                            4.4491\n",
       "Con Air                                                   3.7233\n",
       "Twister                                                   3.7526\n",
       "Sweet Home Alabama                                        3.6797\n",
       "Pearl Harbor                                              3.7315\n",
       "Armageddon                                                4.0202\n",
       "The Rock                                                  4.0171\n",
       "What Women Want                                           3.7062\n",
       "v1                                                        3.6142\n",
       "dtype: float64"
      ]
     },
     "execution_count": 17,
     "output_type": "execute_result",
     "metadata": {}
    }
   ],
   "source": [
    "# The average rating of the first 14 movies (that have no NANs)\n",
    "df.mean()"
   ]
  },
  {
   "cell_type": "code",
   "execution_count": 18,
   "metadata": {},
   "outputs": [
    {
     "name": "stdout",
     "output_type": "stream",
     "text": [
      "                                                    Independence Day  \\\n",
      "Independence Day                                            1.000000   \n",
      "The Patriot                                                 0.260428   \n",
      "The Day After Tomorrow                                      0.312014   \n",
      "Pirates of the Caribbean: The Curse of the Blac...          0.200508   \n",
      "Pretty Woman                                                0.195289   \n",
      "Forrest Gump                                                0.152691   \n",
      "The Green Mile                                              0.195338   \n",
      "Con Air                                                     0.317489   \n",
      "Twister                                                     0.377556   \n",
      "Sweet Home Alabama                                          0.202353   \n",
      "Pearl Harbor                                                0.270765   \n",
      "Armageddon                                                  0.440580   \n",
      "The Rock                                                    0.303928   \n",
      "What Women Want                                             0.238167   \n",
      "v1                                                          0.246574   \n",
      "\n",
      "                                                    The Patriot  \\\n",
      "Independence Day                                       0.260428   \n",
      "The Patriot                                            1.000000   \n",
      "The Day After Tomorrow                                 0.222843   \n",
      "Pirates of the Caribbean: The Curse of the Blac...     0.165145   \n",
      "Pretty Woman                                           0.163735   \n",
      "Forrest Gump                                           0.176229   \n",
      "The Green Mile                                         0.284502   \n",
      "Con Air                                                0.263151   \n",
      "Twister                                                0.229199   \n",
      "Sweet Home Alabama                                     0.220260   \n",
      "Pearl Harbor                                           0.355116   \n",
      "Armageddon                                             0.300912   \n",
      "The Rock                                               0.274980   \n",
      "What Women Want                                        0.284234   \n",
      "v1                                                     0.195151   \n",
      "\n",
      "                                                    The Day After Tomorrow  \\\n",
      "Independence Day                                                  0.312014   \n",
      "The Patriot                                                       0.222843   \n",
      "The Day After Tomorrow                                            1.000000   \n",
      "Pirates of the Caribbean: The Curse of the Blac...                0.177771   \n",
      "Pretty Woman                                                      0.185317   \n",
      "Forrest Gump                                                      0.090294   \n",
      "The Green Mile                                                    0.174999   \n",
      "Con Air                                                           0.307770   \n",
      "Twister                                                           0.353296   \n",
      "Sweet Home Alabama                                                0.282111   \n",
      "Pearl Harbor                                                      0.350059   \n",
      "Armageddon                                                        0.368103   \n",
      "The Rock                                                          0.234940   \n",
      "What Women Want                                                   0.270298   \n",
      "v1                                                                0.261388   \n",
      "\n",
      "                                                    Pirates of the Caribbean: The Curse of the Black Pearl  \\\n",
      "Independence Day                                                                             0.200508        \n",
      "The Patriot                                                                                  0.165145        \n",
      "The Day After Tomorrow                                                                       0.177771        \n",
      "Pirates of the Caribbean: The Curse of the Blac...                                           1.000000        \n",
      "Pretty Woman                                                                                 0.138660        \n",
      "Forrest Gump                                                                                 0.115385        \n",
      "The Green Mile                                                                               0.122997        \n",
      "Con Air                                                                                      0.171659        \n",
      "Twister                                                                                      0.171778        \n",
      "Sweet Home Alabama                                                                           0.197218        \n",
      "Pearl Harbor                                                                                 0.123049        \n",
      "Armageddon                                                                                   0.189397        \n",
      "The Rock                                                                                     0.181384        \n",
      "What Women Want                                                                              0.168427        \n",
      "v1                                                                                           0.197334        \n",
      "\n",
      "                                                    Pretty Woman  \\\n",
      "Independence Day                                        0.195289   \n",
      "The Patriot                                             0.163735   \n",
      "The Day After Tomorrow                                  0.185317   \n",
      "Pirates of the Caribbean: The Curse of the Blac...      0.138660   \n",
      "Pretty Woman                                            1.000000   \n",
      "Forrest Gump                                            0.181387   \n",
      "The Green Mile                                          0.174863   \n",
      "Con Air                                                 0.204727   \n",
      "Twister                                                 0.261598   \n",
      "Sweet Home Alabama                                      0.365250   \n",
      "Pearl Harbor                                            0.238389   \n",
      "Armageddon                                              0.247580   \n",
      "The Rock                                                0.190311   \n",
      "What Women Want                                         0.307785   \n",
      "v1                                                      0.332051   \n",
      "\n",
      "                                                    Forrest Gump  \\\n",
      "Independence Day                                        0.152691   \n",
      "The Patriot                                             0.176229   \n",
      "The Day After Tomorrow                                  0.090294   \n",
      "Pirates of the Caribbean: The Curse of the Blac...      0.115385   \n",
      "Pretty Woman                                            0.181387   \n",
      "Forrest Gump                                            1.000000   \n",
      "The Green Mile                                          0.289302   \n",
      "Con Air                                                 0.115984   \n",
      "Twister                                                 0.153183   \n",
      "Sweet Home Alabama                                      0.088110   \n",
      "Pearl Harbor                                            0.161710   \n",
      "Armageddon                                              0.157457   \n",
      "The Rock                                                0.141631   \n",
      "What Women Want                                         0.160659   \n",
      "v1                                                      0.071173   \n",
      "\n",
      "                                                    The Green Mile   Con Air  \\\n",
      "Independence Day                                          0.195338  0.317489   \n",
      "The Patriot                                               0.284502  0.263151   \n",
      "The Day After Tomorrow                                    0.174999  0.307770   \n",
      "Pirates of the Caribbean: The Curse of the Blac...        0.122997  0.171659   \n",
      "Pretty Woman                                              0.174863  0.204727   \n",
      "Forrest Gump                                              0.289302  0.115984   \n",
      "The Green Mile                                            1.000000  0.207221   \n",
      "Con Air                                                   0.207221  1.000000   \n",
      "Twister                                                   0.188802  0.308589   \n",
      "Sweet Home Alabama                                        0.178492  0.243304   \n",
      "Pearl Harbor                                              0.239350  0.291767   \n",
      "Armageddon                                                0.219171  0.407212   \n",
      "The Rock                                                  0.199487  0.454959   \n",
      "What Women Want                                           0.228877  0.265819   \n",
      "v1                                                        0.173363  0.260386   \n",
      "\n",
      "                                                     Twister  \\\n",
      "Independence Day                                    0.377556   \n",
      "The Patriot                                         0.229199   \n",
      "The Day After Tomorrow                              0.353296   \n",
      "Pirates of the Caribbean: The Curse of the Blac...  0.171778   \n",
      "Pretty Woman                                        0.261598   \n",
      "Forrest Gump                                        0.153183   \n",
      "The Green Mile                                      0.188802   \n",
      "Con Air                                             0.308589   \n",
      "Twister                                             1.000000   \n",
      "Sweet Home Alabama                                  0.256909   \n",
      "Pearl Harbor                                        0.306470   \n",
      "Armageddon                                          0.364567   \n",
      "The Rock                                            0.277635   \n",
      "What Women Want                                     0.288871   \n",
      "v1                                                  0.301805   \n",
      "\n",
      "                                                    Sweet Home Alabama  \\\n",
      "Independence Day                                              0.202353   \n",
      "The Patriot                                                   0.220260   \n",
      "The Day After Tomorrow                                        0.282111   \n",
      "Pirates of the Caribbean: The Curse of the Blac...            0.197218   \n",
      "Pretty Woman                                                  0.365250   \n",
      "Forrest Gump                                                  0.088110   \n",
      "The Green Mile                                                0.178492   \n",
      "Con Air                                                       0.243304   \n",
      "Twister                                                       0.256909   \n",
      "Sweet Home Alabama                                            1.000000   \n",
      "Pearl Harbor                                                  0.316748   \n",
      "Armageddon                                                    0.291830   \n",
      "The Rock                                                      0.183795   \n",
      "What Women Want                                               0.338304   \n",
      "v1                                                            0.412622   \n",
      "\n",
      "                                                    Pearl Harbor  Armageddon  \\\n",
      "Independence Day                                        0.270765    0.440580   \n",
      "The Patriot                                             0.355116    0.300912   \n",
      "The Day After Tomorrow                                  0.350059    0.368103   \n",
      "Pirates of the Caribbean: The Curse of the Blac...      0.123049    0.189397   \n",
      "Pretty Woman                                            0.238389    0.247580   \n",
      "Forrest Gump                                            0.161710    0.157457   \n",
      "The Green Mile                                          0.239350    0.219171   \n",
      "Con Air                                                 0.291767    0.407212   \n",
      "Twister                                                 0.306470    0.364567   \n",
      "Sweet Home Alabama                                      0.316748    0.291830   \n",
      "Pearl Harbor                                            1.000000    0.390767   \n",
      "Armageddon                                              0.390767    1.000000   \n",
      "The Rock                                                0.237342    0.357989   \n",
      "What Women Want                                         0.308362    0.299005   \n",
      "v1                                                      0.268039    0.271731   \n",
      "\n",
      "                                                    The Rock  What Women Want  \\\n",
      "Independence Day                                    0.303928         0.238167   \n",
      "The Patriot                                         0.274980         0.284234   \n",
      "The Day After Tomorrow                              0.234940         0.270298   \n",
      "Pirates of the Caribbean: The Curse of the Blac...  0.181384         0.168427   \n",
      "Pretty Woman                                        0.190311         0.307785   \n",
      "Forrest Gump                                        0.141631         0.160659   \n",
      "The Green Mile                                      0.199487         0.228877   \n",
      "Con Air                                             0.454959         0.265819   \n",
      "Twister                                             0.277635         0.288871   \n",
      "Sweet Home Alabama                                  0.183795         0.338304   \n",
      "Pearl Harbor                                        0.237342         0.308362   \n",
      "Armageddon                                          0.357989         0.299005   \n",
      "The Rock                                            1.000000         0.236661   \n",
      "What Women Want                                     0.236661         1.000000   \n",
      "v1                                                  0.195817         0.348649   \n",
      "\n",
      "                                                          v1  \n",
      "Independence Day                                    0.246574  \n",
      "The Patriot                                         0.195151  \n",
      "The Day After Tomorrow                              0.261388  \n",
      "Pirates of the Caribbean: The Curse of the Blac...  0.197334  \n",
      "Pretty Woman                                        0.332051  \n",
      "Forrest Gump                                        0.071173  \n",
      "The Green Mile                                      0.173363  \n",
      "Con Air                                             0.260386  \n",
      "Twister                                             0.301805  \n",
      "Sweet Home Alabama                                  0.412622  \n",
      "Pearl Harbor                                        0.268039  \n",
      "Armageddon                                          0.271731  \n",
      "The Rock                                            0.195817  \n",
      "What Women Want                                     0.348649  \n",
      "v1                                                  1.000000  \n"
     ]
    }
   ],
   "source": [
    "# Check the correlation between all the movies\n",
    "correlations = df.corr(method='pearson')\n",
    "print(correlations)"
   ]
  },
  {
   "cell_type": "code",
   "execution_count": 19,
   "metadata": {},
   "outputs": [
    {
     "data": {
      "text/plain": [
       "<matplotlib.colorbar.Colorbar at 0x1dd7d7b8>"
      ]
     },
     "execution_count": 19,
     "output_type": "execute_result",
     "metadata": {}
    },
    {
     "data": {
      "image/png": "[encoded data removed]"
     },
     "output_type": "display_data",
     "metadata": {}
    }
   ],
   "source": [
    "plt.imshow(correlations, interpolation='nearest')   # interpolation='nearest' - used to avoid interpolation\n",
    "plt.grid(True)\n",
    "plt.colorbar()"
   ]
  },
  {
   "cell_type": "code",
   "execution_count": 20,
   "metadata": {},
   "outputs": [],
   "source": [
    "correlations_vect = correlations.values[0:14,0:14]\n",
    "#correlations_vect.flatten()\n",
    "#correlations_vect.shape"
   ]
  },
  {
   "cell_type": "code",
   "execution_count": 21,
   "metadata": {},
   "outputs": [
    {
     "data": {
      "text/plain": [
       "[0, 190, 0, 0.5]"
      ]
     },
     "execution_count": 21,
     "output_type": "execute_result",
     "metadata": {}
    },
    {
     "data": {
      "image/png": "[encoded data removed]"
     },
     "output_type": "display_data",
     "metadata": {}
    }
   ],
   "source": [
    "correlations_vect = -np.sort(-correlations_vect.flatten())\n",
    "plt.plot(correlations_vect,'.')\n",
    "plt.axis([0,190,0,0.5])"
   ]
  },
  {
   "cell_type": "markdown",
   "metadata": {},
   "source": [
    "#### which movies correlated with Miss Congeniality"
   ]
  },
  {
   "cell_type": "code",
   "execution_count": 22,
   "metadata": {},
   "outputs": [
    {
     "data": {
      "text/plain": [
       "0.98139984935586166"
      ]
     },
     "execution_count": 22,
     "output_type": "execute_result",
     "metadata": {}
    }
   ],
   "source": [
    "# Check how correlaation works\n",
    "x = [1,    -2,   2,    3,  1]\n",
    "y = [7.5, -3.5, 14.5, 19, 6.6]\n",
    "np.correlate(x,y)\n",
    "\n",
    "RR = np.corrcoef(x,y)\n",
    "RR[0,1]"
   ]
  },
  {
   "cell_type": "code",
   "execution_count": 23,
   "metadata": {},
   "outputs": [
    {
     "data": {
      "text/plain": [
       "[array([[ 0.24657421],\n",
       "        [ 0.19515087],\n",
       "        [ 0.26138752],\n",
       "        [ 0.1973337 ],\n",
       "        [ 0.33205113],\n",
       "        [ 0.07117286],\n",
       "        [ 0.17336262],\n",
       "        [ 0.26038617],\n",
       "        [ 0.30180461],\n",
       "        [ 0.41262169],\n",
       "        [ 0.26803916],\n",
       "        [ 0.27173144],\n",
       "        [ 0.1958167 ],\n",
       "        [ 0.34864892]]), array([[  2.13647829e-138],\n",
       "        [  2.05791506e-086],\n",
       "        [  6.92928205e-156],\n",
       "        [  2.36665786e-088],\n",
       "        [  5.64590843e-256],\n",
       "        [  1.03753463e-012],\n",
       "        [  2.57821287e-068],\n",
       "        [  1.14686320e-154],\n",
       "        [  1.19452915e-209],\n",
       "        [  0.00000000e+000],\n",
       "        [  4.05656278e-164],\n",
       "        [  8.61878219e-169],\n",
       "        [  5.30082471e-087],\n",
       "        [  9.67803390e-284]])]"
      ]
     },
     "execution_count": 23,
     "output_type": "execute_result",
     "metadata": {}
    }
   ],
   "source": [
    "R  = np.zeros((14,1))\n",
    "P  = np.zeros((14,1))\n",
    "\n",
    "# for loop over the first 14 movies\n",
    "for i in range(14):\n",
    "    RR = np.corrcoef(tr_x[:,i],tr_y)\n",
    "    R[i] = RR[0,1]\n",
    "    R_pearson = scipy.stats.stats.pearsonr(tr_x[:,i],tr_y)\n",
    "    P[i] = R_pearson[1]\n",
    "[R,P]"
   ]
  },
  {
   "cell_type": "code",
   "execution_count": 24,
   "metadata": {},
   "outputs": [
    {
     "data": {
      "text/plain": [
       "[<matplotlib.lines.Line2D at 0x1ded1358>]"
      ]
     },
     "execution_count": 24,
     "output_type": "execute_result",
     "metadata": {}
    },
    {
     "data": {
      "image/png": "[encoded data removed]"
     },
     "output_type": "display_data",
     "metadata": {}
    }
   ],
   "source": [
    "plt.plot(R,'*')"
   ]
  },
  {
   "cell_type": "code",
   "execution_count": 25,
   "metadata": {},
   "outputs": [
    {
     "data": {
      "text/plain": [
       "(0.98139984935586166, 0.0030366388199721478)"
      ]
     },
     "execution_count": 25,
     "output_type": "execute_result",
     "metadata": {}
    }
   ],
   "source": [
    "# \"which movies are correlated with Miss Congeniality\"\n",
    "# -----------------------------------------------------\n",
    "#\n",
    "# Calculate the correlation\n",
    "#\n",
    "#d=tr_x[:,0:1]\n",
    "#c = np.correlate(tr_y, tr_y)\n",
    "\n",
    "\n",
    "\n",
    "a = np.ones((1,10))\n",
    "b = np.ones((1,10))\n",
    "#pcor = scipy.stats.stats.pearsonr(a,b)\n",
    "#pcor\n",
    "a\n",
    "\n",
    "\n",
    "x = np.array([1, -2, 2, 3, 1])\n",
    "y = np.array([7.5, -3.5, 14.5, 19, 6.6])\n",
    "scipy.stats.stats.pearsonr(x,y)"
   ]
  },
  {
   "cell_type": "markdown",
   "metadata": {},
   "source": [
    "####  how many missing values ('0' values in 'x')?"
   ]
  },
  {
   "cell_type": "code",
   "execution_count": 26,
   "metadata": {},
   "outputs": [
    {
     "data": {
      "text/plain": [
       "array([   0,    0,    0,    0,    0,    0,    0,    0,    0,    0,    0,\n",
       "          0,    0,    0,  856,  797,  927, 1362, 1267, 1996, 1187, 1393,\n",
       "       1378, 3789,  816, 2109,  970,  738, 1308, 1294,  719, 1223, 1773,\n",
       "       1686, 1289, 1701, 3766, 1882, 1352, 1228, 1412, 2430, 1044, 1262,\n",
       "       1600, 1394, 1232, 2584, 1350, 1278, 1490, 1925, 1563, 1802, 2132,\n",
       "       1048, 1643,  891, 1264, 1154, 1606, 1732, 1692, 2405, 1937, 2105,\n",
       "       1144, 1261, 1300, 1652, 1542, 1518, 3737, 1661, 1738, 1933, 1716,\n",
       "       1564, 2778, 1752, 1969, 3170, 2965, 1739, 1774, 1639, 1916, 1885,\n",
       "       1638, 2321, 1565, 1916, 4723, 3408, 2073, 1902, 2840, 4303, 3340])"
      ]
     },
     "execution_count": 26,
     "output_type": "execute_result",
     "metadata": {}
    }
   ],
   "source": [
    "#np.count_nonzero([[0 , 1],[0,1]],axis=1)\n",
    "#col = (np.array([[0 , 1],\n",
    "#                [0 , 1]]) == 0).sum(1)\n",
    "col_zero_count = (tr_x == 0).sum(0)\n",
    "col_zero_count"
   ]
  },
  {
   "cell_type": "code",
   "execution_count": 27,
   "metadata": {},
   "outputs": [
    {
     "data": {
      "text/plain": [
       "<matplotlib.text.Text at 0x1f48c160>"
      ]
     },
     "execution_count": 27,
     "output_type": "execute_result",
     "metadata": {}
    },
    {
     "data": {
      "image/png": "[encoded data removed]"
     },
     "output_type": "display_data",
     "metadata": {}
    }
   ],
   "source": [
    "plt.plot(col_zero_count,'.')\n",
    "plt.xlabel('#movie')\n",
    "plt.ylabel('number of missing values')\n",
    "\n",
    "plt.title('num of zeros in each column')"
   ]
  },
  {
   "cell_type": "markdown",
   "metadata": {},
   "source": [
    "#### Changes in time (how the rating of Miss Congeniality is changing over time)"
   ]
  },
  {
   "cell_type": "code",
   "execution_count": 28,
   "metadata": {},
   "outputs": [
    {
     "data": {
      "text/plain": [
       "array([[ 1.        ,  0.05329783],\n",
       "       [ 0.05329783,  1.        ]])"
      ]
     },
     "execution_count": 28,
     "output_type": "execute_result",
     "metadata": {}
    }
   ],
   "source": [
    "#file_name = 'C:\\\\Users\\\\Roberta\\\\PycharmProjects\\\\Netflix\\\\data\\\\train_y_rating.dat'\n",
    "#tr_y_date = np.loadtxt(file_name,dtype='int')\n",
    "#print(tr_y_date.shape)\n",
    "np.corrcoef(tr_y,tr_y_date)"
   ]
  },
  {
   "cell_type": "code",
   "execution_count": 29,
   "metadata": {},
   "outputs": [
    {
     "data": {
      "text/plain": [
       "(0.053297828467850035, 9.6652818069478751e-08)"
      ]
     },
     "execution_count": 29,
     "output_type": "execute_result",
     "metadata": {}
    }
   ],
   "source": [
    "# Calculate the Pearson Correlataion coeff and the significance (p-value)\n",
    "scipy.stats.stats.pearsonr(tr_y,tr_y_date)"
   ]
  },
  {
   "cell_type": "code",
   "execution_count": 30,
   "metadata": {},
   "outputs": [
    {
     "data": {
      "text/plain": [
       "<matplotlib.text.Text at 0x1f3bbb38>"
      ]
     },
     "execution_count": 30,
     "output_type": "execute_result",
     "metadata": {}
    },
    {
     "data": {
      "image/png": "[encoded data removed]"
     },
     "output_type": "display_data",
     "metadata": {}
    }
   ],
   "source": [
    "plt.plot(tr_y_date,tr_y,'.')\n",
    "plt.xlabel('date')\n",
    "plt.ylabel('rating')"
   ]
  },
  {
   "cell_type": "markdown",
   "metadata": {},
   "source": [
    "## Split to 'Train' & 'Test'"
   ]
  },
  {
   "cell_type": "code",
   "execution_count": 31,
   "metadata": {},
   "outputs": [
    {
     "ename": "NameError",
     "evalue": "name 'model_selection' is not defined",
     "output_type": "error",
     "traceback": [
      "\u001b[1;31m---------------------------------------------------------------------------\u001b[0m",
      "\u001b[1;31mNameError\u001b[0m                                 Traceback (most recent call last)",
      "\u001b[1;32m<ipython-input-31-cb317b608ad7>\u001b[0m in \u001b[0;36m<module>\u001b[1;34m()\u001b[0m\n\u001b[0;32m      1\u001b[0m \u001b[0mtest_size\u001b[0m\u001b[1;33m=\u001b[0m\u001b[1;36m0.2\u001b[0m  \u001b[1;31m# percentage\u001b[0m\u001b[1;33m\u001b[0m\u001b[0m\n\u001b[1;32m----> 2\u001b[1;33m \u001b[0mtr_x_train\u001b[0m\u001b[1;33m,\u001b[0m \u001b[0mtr_x_validate\u001b[0m\u001b[1;33m,\u001b[0m \u001b[0mtr_y_train\u001b[0m\u001b[1;33m,\u001b[0m \u001b[0mtr_y_validate\u001b[0m \u001b[1;33m=\u001b[0m \u001b[0mmodel_selection\u001b[0m\u001b[1;33m.\u001b[0m\u001b[0mtrain_test_split\u001b[0m\u001b[1;33m(\u001b[0m\u001b[0mtr_x\u001b[0m\u001b[1;33m,\u001b[0m \u001b[0mtr_y\u001b[0m\u001b[1;33m,\u001b[0m \u001b[0mtest_size\u001b[0m\u001b[1;33m=\u001b[0m\u001b[0mtest_size\u001b[0m\u001b[1;33m,\u001b[0m \u001b[0mrandom_state\u001b[0m\u001b[1;33m=\u001b[0m\u001b[1;36m0\u001b[0m\u001b[1;33m)\u001b[0m\u001b[1;33m\u001b[0m\u001b[0m\n\u001b[0m\u001b[0;32m      3\u001b[0m \u001b[0mtr_y\u001b[0m\u001b[1;33m.\u001b[0m\u001b[0mshape\u001b[0m\u001b[1;33m\u001b[0m\u001b[0m\n",
      "\u001b[1;31mNameError\u001b[0m: name 'model_selection' is not defined"
     ]
    }
   ],
   "source": [
    "test_size=0.2  # percentage\n",
    "tr_x_train, tr_x_validate, tr_y_train, tr_y_validate = model_selection.train_test_split(tr_x, tr_y, test_size=test_size, random_state=0)\n",
    "tr_y.shape"
   ]
  },
  {
   "cell_type": "code",
   "execution_count": null,
   "metadata": {},
   "outputs": [],
   "source": [
    "# use fixed split\n",
    "tr_x_train = tr_x[0:8000,:]\n",
    "tr_x_validate = tr_x[8000:,:]\n",
    "tr_y_train = tr_y[0:8000]\n",
    "tr_y_validate = tr_y[8000:]\n",
    "tr_y_train.shape"
   ]
  },
  {
   "cell_type": "code",
   "execution_count": 32,
   "metadata": {},
   "outputs": [
    {
     "ename": "NameError",
     "evalue": "name 'tr_y_validate' is not defined",
     "output_type": "error",
     "traceback": [
      "\u001b[1;31m---------------------------------------------------------------------------\u001b[0m",
      "\u001b[1;31mNameError\u001b[0m                                 Traceback (most recent call last)",
      "\u001b[1;32m<ipython-input-32-11729438a335>\u001b[0m in \u001b[0;36m<module>\u001b[1;34m()\u001b[0m\n\u001b[0;32m      1\u001b[0m \u001b[1;31m# baseline RMSE\u001b[0m\u001b[1;33m\u001b[0m\u001b[1;33m\u001b[0m\u001b[0m\n\u001b[1;32m----> 2\u001b[1;33m \u001b[0mRMSE_baseline\u001b[0m \u001b[1;33m=\u001b[0m \u001b[0mnp\u001b[0m\u001b[1;33m.\u001b[0m\u001b[0msqrt\u001b[0m\u001b[1;33m(\u001b[0m\u001b[0mnp\u001b[0m\u001b[1;33m.\u001b[0m\u001b[0mmean\u001b[0m\u001b[1;33m(\u001b[0m \u001b[1;33m(\u001b[0m\u001b[0mtr_y_validate\u001b[0m \u001b[1;33m-\u001b[0m \u001b[0mnp\u001b[0m\u001b[1;33m.\u001b[0m\u001b[0mmean\u001b[0m\u001b[1;33m(\u001b[0m\u001b[0mtr_y_train\u001b[0m\u001b[1;33m)\u001b[0m\u001b[1;33m)\u001b[0m\u001b[1;33m**\u001b[0m\u001b[1;36m2\u001b[0m\u001b[1;33m)\u001b[0m\u001b[1;33m)\u001b[0m\u001b[1;33m\u001b[0m\u001b[0m\n\u001b[0m\u001b[0;32m      3\u001b[0m \u001b[0mRMSE_baseline\u001b[0m\u001b[1;33m\u001b[0m\u001b[0m\n",
      "\u001b[1;31mNameError\u001b[0m: name 'tr_y_validate' is not defined"
     ]
    }
   ],
   "source": [
    "# baseline RMSE\n",
    "RMSE_baseline = np.sqrt(np.mean( (tr_y_validate - np.mean(tr_y_train))**2))\n",
    "RMSE_baseline"
   ]
  },
  {
   "cell_type": "markdown",
   "metadata": {},
   "source": [
    "# Linear Regression fit"
   ]
  },
  {
   "cell_type": "markdown",
   "metadata": {},
   "source": [
    "##### Linear regression using all the 99 movies"
   ]
  },
  {
   "cell_type": "code",
   "execution_count": 33,
   "metadata": {},
   "outputs": [
    {
     "ename": "NameError",
     "evalue": "name 'tr_x_train' is not defined",
     "output_type": "error",
     "traceback": [
      "\u001b[1;31m---------------------------------------------------------------------------\u001b[0m",
      "\u001b[1;31mNameError\u001b[0m                                 Traceback (most recent call last)",
      "\u001b[1;32m<ipython-input-33-3c5617de4639>\u001b[0m in \u001b[0;36m<module>\u001b[1;34m()\u001b[0m\n\u001b[0;32m      3\u001b[0m \u001b[1;33m\u001b[0m\u001b[0m\n\u001b[0;32m      4\u001b[0m \u001b[1;31m# Train the model using the training sets\u001b[0m\u001b[1;33m\u001b[0m\u001b[1;33m\u001b[0m\u001b[0m\n\u001b[1;32m----> 5\u001b[1;33m \u001b[0mregr\u001b[0m\u001b[1;33m.\u001b[0m\u001b[0mfit\u001b[0m\u001b[1;33m(\u001b[0m\u001b[0mtr_x_train\u001b[0m\u001b[1;33m,\u001b[0m \u001b[0mtr_y_train\u001b[0m\u001b[1;33m)\u001b[0m\u001b[1;33m\u001b[0m\u001b[0m\n\u001b[0m\u001b[0;32m      6\u001b[0m \u001b[1;33m\u001b[0m\u001b[0m\n\u001b[0;32m      7\u001b[0m \u001b[1;31m# The mean squared error\u001b[0m\u001b[1;33m\u001b[0m\u001b[1;33m\u001b[0m\u001b[0m\n",
      "\u001b[1;31mNameError\u001b[0m: name 'tr_x_train' is not defined"
     ]
    }
   ],
   "source": [
    "# Create linear regression object\n",
    "regr = linear_model.LinearRegression()\n",
    "\n",
    "# Train the model using the training sets\n",
    "regr.fit(tr_x_train, tr_y_train)\n",
    "\n",
    "# The mean squared error\n",
    "# Explained variance score: 1 is perfect prediction\n",
    "print('Variance score: %.2f' % regr.score(tr_x_validate, tr_y_validate))\n",
    "# lm.score() -> Returns the coefficient of determination (R^2). A measure of how well observed outcomes are replicated by the model, as the proportion of total variation of outcomes explained by the model. \n",
    "\n",
    "print(\"Mean squared error on the Validation data: %.2f\"\n",
    "      % np.sqrt(np.mean((regr.predict(tr_x_validate) - tr_y_validate) ** 2)))\n",
    "\n",
    "# Plot outputs\n",
    "\n",
    "plt.plot(tr_y_validate, regr.predict(tr_x_validate),  '.')\n",
    "plt.plot(np.array([0.5,5.5]),np.array([5,5]) )\n",
    "plt.xlabel('rating - true value')\n",
    "plt.ylabel('rating - estimated')\n",
    "\n",
    "plt.show()\n",
    "\n",
    "\n",
    "# plt.plot(tr_x_validate, regr.predict(tr_x_validate), color='blue', linewidth=3)\n",
    "\n",
    "#plt.xticks(())\n",
    "#plt.yticks(())"
   ]
  },
  {
   "cell_type": "code",
   "execution_count": 34,
   "metadata": {},
   "outputs": [
    {
     "ename": "AttributeError",
     "evalue": "'LinearRegression' object has no attribute 'intercept_'",
     "output_type": "error",
     "traceback": [
      "\u001b[1;31m---------------------------------------------------------------------------\u001b[0m",
      "\u001b[1;31mAttributeError\u001b[0m                            Traceback (most recent call last)",
      "\u001b[1;32m<ipython-input-34-3012e6a0128d>\u001b[0m in \u001b[0;36m<module>\u001b[1;34m()\u001b[0m\n\u001b[0;32m      1\u001b[0m \u001b[1;31m# The coefficients\u001b[0m\u001b[1;33m\u001b[0m\u001b[1;33m\u001b[0m\u001b[0m\n\u001b[1;32m----> 2\u001b[1;33m \u001b[1;32mprint\u001b[0m\u001b[1;33m(\u001b[0m\u001b[1;34m'intercept: \\n'\u001b[0m\u001b[1;33m,\u001b[0m \u001b[0mregr\u001b[0m\u001b[1;33m.\u001b[0m\u001b[0mintercept_\u001b[0m \u001b[1;33m)\u001b[0m\u001b[1;33m\u001b[0m\u001b[0m\n\u001b[0m\u001b[0;32m      3\u001b[0m \u001b[1;32mprint\u001b[0m\u001b[1;33m(\u001b[0m\u001b[1;34m'Coefficients: \\n'\u001b[0m\u001b[1;33m,\u001b[0m \u001b[0mregr\u001b[0m\u001b[1;33m.\u001b[0m\u001b[0mcoef_\u001b[0m\u001b[1;33m)\u001b[0m\u001b[1;33m\u001b[0m\u001b[0m\n\u001b[0;32m      4\u001b[0m \u001b[1;31m#for c in regr.coef_:\u001b[0m\u001b[1;33m\u001b[0m\u001b[1;33m\u001b[0m\u001b[0m\n\u001b[0;32m      5\u001b[0m \u001b[1;31m#    print(' %.3f: ' % c)\u001b[0m\u001b[1;33m\u001b[0m\u001b[1;33m\u001b[0m\u001b[0m\n",
      "\u001b[1;31mAttributeError\u001b[0m: 'LinearRegression' object has no attribute 'intercept_'"
     ]
    }
   ],
   "source": [
    "# The coefficients\n",
    "print('intercept: \\n', regr.intercept_ )\n",
    "print('Coefficients: \\n', regr.coef_)\n",
    "#for c in regr.coef_:\n",
    "#    print(' %.3f: ' % c)\n",
    "\n",
    "\n",
    "plt.figure\n",
    "plt.plot(regr.coef_, '.')"
   ]
  },
  {
   "cell_type": "code",
   "execution_count": 35,
   "metadata": {},
   "outputs": [
    {
     "ename": "NameError",
     "evalue": "name 'tr_x_train' is not defined",
     "output_type": "error",
     "traceback": [
      "\u001b[1;31m---------------------------------------------------------------------------\u001b[0m",
      "\u001b[1;31mNameError\u001b[0m                                 Traceback (most recent call last)",
      "\u001b[1;32m<ipython-input-35-0490eee5067a>\u001b[0m in \u001b[0;36m<module>\u001b[1;34m()\u001b[0m\n\u001b[1;32m----> 1\u001b[1;33m \u001b[0mtr_y_train_est\u001b[0m \u001b[1;33m=\u001b[0m \u001b[0mregr\u001b[0m\u001b[1;33m.\u001b[0m\u001b[0mpredict\u001b[0m\u001b[1;33m(\u001b[0m\u001b[0mtr_x_train\u001b[0m\u001b[1;33m)\u001b[0m\u001b[1;33m\u001b[0m\u001b[0m\n\u001b[0m\u001b[0;32m      2\u001b[0m \u001b[0mtr_y_validate_est\u001b[0m \u001b[1;33m=\u001b[0m \u001b[0mregr\u001b[0m\u001b[1;33m.\u001b[0m\u001b[0mpredict\u001b[0m\u001b[1;33m(\u001b[0m\u001b[0mtr_x_validate\u001b[0m\u001b[1;33m)\u001b[0m\u001b[1;33m\u001b[0m\u001b[0m\n\u001b[0;32m      3\u001b[0m \u001b[1;33m\u001b[0m\u001b[0m\n\u001b[0;32m      4\u001b[0m \u001b[0mRMSE_in_sample\u001b[0m  \u001b[1;33m=\u001b[0m \u001b[0mnp\u001b[0m\u001b[1;33m.\u001b[0m\u001b[0msqrt\u001b[0m\u001b[1;33m(\u001b[0m\u001b[0mnp\u001b[0m\u001b[1;33m.\u001b[0m\u001b[0mmean\u001b[0m\u001b[1;33m(\u001b[0m\u001b[1;33m(\u001b[0m\u001b[0mtr_y_train_est\u001b[0m \u001b[1;33m-\u001b[0m \u001b[0mtr_y_train\u001b[0m\u001b[1;33m)\u001b[0m \u001b[1;33m**\u001b[0m \u001b[1;36m2\u001b[0m\u001b[1;33m)\u001b[0m\u001b[1;33m)\u001b[0m\u001b[1;33m\u001b[0m\u001b[0m\n\u001b[0;32m      5\u001b[0m \u001b[0mRMSE_out_sample\u001b[0m \u001b[1;33m=\u001b[0m \u001b[0mnp\u001b[0m\u001b[1;33m.\u001b[0m\u001b[0msqrt\u001b[0m\u001b[1;33m(\u001b[0m\u001b[0mnp\u001b[0m\u001b[1;33m.\u001b[0m\u001b[0mmean\u001b[0m\u001b[1;33m(\u001b[0m\u001b[1;33m(\u001b[0m\u001b[0mtr_y_validate_est\u001b[0m \u001b[1;33m-\u001b[0m \u001b[0mtr_y_validate\u001b[0m\u001b[1;33m)\u001b[0m \u001b[1;33m**\u001b[0m \u001b[1;36m2\u001b[0m\u001b[1;33m)\u001b[0m\u001b[1;33m)\u001b[0m\u001b[1;33m\u001b[0m\u001b[0m\n",
      "\u001b[1;31mNameError\u001b[0m: name 'tr_x_train' is not defined"
     ]
    }
   ],
   "source": [
    "tr_y_train_est = regr.predict(tr_x_train)\n",
    "tr_y_validate_est = regr.predict(tr_x_validate)\n",
    "\n",
    "RMSE_in_sample  = np.sqrt(np.mean((tr_y_train_est - tr_y_train) ** 2))\n",
    "RMSE_out_sample = np.sqrt(np.mean((tr_y_validate_est - tr_y_validate) ** 2))"
   ]
  },
  {
   "cell_type": "code",
   "execution_count": 36,
   "metadata": {},
   "outputs": [
    {
     "ename": "NameError",
     "evalue": "name 'RMSE_baseline' is not defined",
     "output_type": "error",
     "traceback": [
      "\u001b[1;31m---------------------------------------------------------------------------\u001b[0m",
      "\u001b[1;31mNameError\u001b[0m                                 Traceback (most recent call last)",
      "\u001b[1;32m<ipython-input-36-bcb593d976c9>\u001b[0m in \u001b[0;36m<module>\u001b[1;34m()\u001b[0m\n\u001b[1;32m----> 1\u001b[1;33m \u001b[1;32mprint\u001b[0m\u001b[1;33m(\u001b[0m\u001b[1;34m\"RMSE baseline:   Mean squared error on the Validate data using the average of the train %.4f\"\u001b[0m \u001b[1;33m%\u001b[0m \u001b[0mRMSE_baseline\u001b[0m \u001b[1;33m)\u001b[0m\u001b[1;33m\u001b[0m\u001b[0m\n\u001b[0m\u001b[0;32m      2\u001b[0m \u001b[1;32mprint\u001b[0m\u001b[1;33m(\u001b[0m\u001b[1;34m\"RMSE in sample:  Mean squared error on the Test data using linear fit on the train: %.4f\"\u001b[0m \u001b[1;33m%\u001b[0m \u001b[0mRMSE_in_sample\u001b[0m \u001b[1;33m)\u001b[0m\u001b[1;33m\u001b[0m\u001b[0m\n\u001b[0;32m      3\u001b[0m \u001b[1;32mprint\u001b[0m\u001b[1;33m(\u001b[0m\u001b[1;34m\"RMSE out sample: Mean squared error on the Validation data using linear fit on the train: %.4f\"\u001b[0m \u001b[1;33m%\u001b[0m \u001b[0mRMSE_out_sample\u001b[0m \u001b[1;33m)\u001b[0m\u001b[1;33m\u001b[0m\u001b[0m\n\u001b[0;32m      4\u001b[0m \u001b[1;33m\u001b[0m\u001b[0m\n\u001b[0;32m      5\u001b[0m \u001b[1;32mprint\u001b[0m\u001b[1;33m(\u001b[0m\u001b[1;34m\"Note: The In-Sample-RMSE is expected to be LOWER than the Out-Sample-RMSE\"\u001b[0m\u001b[1;33m)\u001b[0m\u001b[1;33m\u001b[0m\u001b[0m\n",
      "\u001b[1;31mNameError\u001b[0m: name 'RMSE_baseline' is not defined"
     ]
    }
   ],
   "source": [
    "print(\"RMSE baseline:   Mean squared error on the Validate data using the average of the train %.4f\" % RMSE_baseline )\n",
    "print(\"RMSE in sample:  Mean squared error on the Test data using linear fit on the train: %.4f\" % RMSE_in_sample )\n",
    "print(\"RMSE out sample: Mean squared error on the Validation data using linear fit on the train: %.4f\" % RMSE_out_sample )\n",
    "\n",
    "print(\"Note: The In-Sample-RMSE is expected to be LOWER than the Out-Sample-RMSE\")"
   ]
  },
  {
   "cell_type": "markdown",
   "metadata": {},
   "source": [
    "#### Truncate the estimated 'y' value to '5'"
   ]
  },
  {
   "cell_type": "code",
   "execution_count": 37,
   "metadata": {},
   "outputs": [
    {
     "ename": "NameError",
     "evalue": "name 'tr_y_validate_est' is not defined",
     "output_type": "error",
     "traceback": [
      "\u001b[1;31m---------------------------------------------------------------------------\u001b[0m",
      "\u001b[1;31mNameError\u001b[0m                                 Traceback (most recent call last)",
      "\u001b[1;32m<ipython-input-37-ec16d9c4a54f>\u001b[0m in \u001b[0;36m<module>\u001b[1;34m()\u001b[0m\n\u001b[1;32m----> 1\u001b[1;33m \u001b[0mtr_y_validate_est_trunc\u001b[0m \u001b[1;33m=\u001b[0m \u001b[0mnp\u001b[0m\u001b[1;33m.\u001b[0m\u001b[0mminimum\u001b[0m\u001b[1;33m(\u001b[0m\u001b[0mtr_y_validate_est\u001b[0m\u001b[1;33m,\u001b[0m\u001b[1;36m5\u001b[0m\u001b[1;33m)\u001b[0m\u001b[1;33m\u001b[0m\u001b[0m\n\u001b[0m\u001b[0;32m      2\u001b[0m \u001b[0mRMSE_out_sample_trunc\u001b[0m \u001b[1;33m=\u001b[0m \u001b[0mnp\u001b[0m\u001b[1;33m.\u001b[0m\u001b[0msqrt\u001b[0m\u001b[1;33m(\u001b[0m\u001b[0mnp\u001b[0m\u001b[1;33m.\u001b[0m\u001b[0mmean\u001b[0m\u001b[1;33m(\u001b[0m\u001b[1;33m(\u001b[0m\u001b[0mtr_y_validate_est_trunc\u001b[0m \u001b[1;33m-\u001b[0m \u001b[0mtr_y_validate\u001b[0m\u001b[1;33m)\u001b[0m \u001b[1;33m**\u001b[0m \u001b[1;36m2\u001b[0m\u001b[1;33m)\u001b[0m\u001b[1;33m)\u001b[0m\u001b[1;33m\u001b[0m\u001b[0m\n\u001b[0;32m      3\u001b[0m \u001b[1;33m\u001b[0m\u001b[0m\n\u001b[0;32m      4\u001b[0m \u001b[1;32mprint\u001b[0m\u001b[1;33m(\u001b[0m\u001b[1;34m\"RMSE out sample: Mean squared error on the Validation data using linear fit on the train + trunc: %.4f\"\u001b[0m \u001b[1;33m%\u001b[0m \u001b[0mRMSE_out_sample_trunc\u001b[0m \u001b[1;33m)\u001b[0m\u001b[1;33m\u001b[0m\u001b[0m\n",
      "\u001b[1;31mNameError\u001b[0m: name 'tr_y_validate_est' is not defined"
     ]
    }
   ],
   "source": [
    "tr_y_validate_est_trunc = np.minimum(tr_y_validate_est,5)\n",
    "RMSE_out_sample_trunc = np.sqrt(np.mean((tr_y_validate_est_trunc - tr_y_validate) ** 2))\n",
    "\n",
    "print(\"RMSE out sample: Mean squared error on the Validation data using linear fit on the train + trunc: %.4f\" % RMSE_out_sample_trunc )"
   ]
  },
  {
   "cell_type": "markdown",
   "metadata": {},
   "source": [
    "####  Linear regression using just the first 14 movies"
   ]
  },
  {
   "cell_type": "code",
   "execution_count": 38,
   "metadata": {},
   "outputs": [
    {
     "ename": "NameError",
     "evalue": "name 'tr_x_train' is not defined",
     "output_type": "error",
     "traceback": [
      "\u001b[1;31m---------------------------------------------------------------------------\u001b[0m",
      "\u001b[1;31mNameError\u001b[0m                                 Traceback (most recent call last)",
      "\u001b[1;32m<ipython-input-38-300cb8826033>\u001b[0m in \u001b[0;36m<module>\u001b[1;34m()\u001b[0m\n\u001b[0;32m      3\u001b[0m \u001b[1;33m\u001b[0m\u001b[0m\n\u001b[0;32m      4\u001b[0m \u001b[1;31m# Train the model using the training sets\u001b[0m\u001b[1;33m\u001b[0m\u001b[1;33m\u001b[0m\u001b[0m\n\u001b[1;32m----> 5\u001b[1;33m \u001b[0mregr_partial\u001b[0m\u001b[1;33m.\u001b[0m\u001b[0mfit\u001b[0m\u001b[1;33m(\u001b[0m\u001b[0mtr_x_train\u001b[0m\u001b[1;33m[\u001b[0m\u001b[1;33m:\u001b[0m\u001b[1;33m,\u001b[0m\u001b[1;36m0\u001b[0m\u001b[1;33m:\u001b[0m\u001b[1;36m14\u001b[0m\u001b[1;33m]\u001b[0m\u001b[1;33m,\u001b[0m \u001b[0mtr_y_train\u001b[0m\u001b[1;33m)\u001b[0m\u001b[1;33m\u001b[0m\u001b[0m\n\u001b[0m\u001b[0;32m      6\u001b[0m \u001b[1;33m\u001b[0m\u001b[0m\n\u001b[0;32m      7\u001b[0m \u001b[1;31m# The mean squared error\u001b[0m\u001b[1;33m\u001b[0m\u001b[1;33m\u001b[0m\u001b[0m\n",
      "\u001b[1;31mNameError\u001b[0m: name 'tr_x_train' is not defined"
     ]
    }
   ],
   "source": [
    "# Create linear regression object\n",
    "regr_partial = linear_model.LinearRegression()\n",
    "\n",
    "# Train the model using the training sets\n",
    "regr_partial.fit(tr_x_train[:,0:14], tr_y_train)\n",
    "\n",
    "# The mean squared error\n",
    "# Explained variance score: 1 is perfect prediction\n",
    "print('Variance score: %.2f' % regr_partial.score(tr_x_validate[:,0:14], tr_y_validate))\n",
    "# lm.score() -> Returns the coefficient of determination (R^2). A measure of how well observed outcomes are replicated by the model, as the proportion of total variation of outcomes explained by the model. \n",
    "\n",
    "print(\"Mean squared error on the Validation data: %.4f\" \n",
    "      % np.sqrt(np.mean((regr_partial.predict(tr_x_validate[:,0:14]) - tr_y_validate) ** 2)))\n",
    "\n",
    "# Plot outputs\n",
    "\n",
    "plt.plot(tr_y_validate, regr_partial.predict(tr_x_validate[:,0:14]),  '.')\n",
    "plt.plot(np.array([0.5,5.5]),np.array([5,5]) )\n",
    "plt.xlabel('rating - true value')\n",
    "plt.ylabel('rating - estimated')\n",
    "\n",
    "plt.show()\n",
    "\n",
    "\n",
    "# plt.plot(tr_x_validate, regr.predict(tr_x_validate), color='blue', linewidth=3)\n",
    "\n",
    "#plt.xticks(())\n",
    "#plt.yticks(())"
   ]
  },
  {
   "cell_type": "code",
   "execution_count": null,
   "metadata": {},
   "outputs": [],
   "source": [
    "tr_y_validate_est_first14 = regr_partial.predict(tr_x_validate[:,0:14])\n",
    "RMSE_out_sample_first14 = np.sqrt(np.mean((tr_y_validate_est_first14 - tr_y_validate) ** 2))\n",
    "\n",
    "print(\"RMSE out sample: Mean squared error on the Validation data using linear fit on the train + first14: %.4f\" % RMSE_out_sample_first14 )"
   ]
  },
  {
   "cell_type": "markdown",
   "metadata": {},
   "source": [
    "####  Deal with missing variables"
   ]
  },
  {
   "cell_type": "code",
   "execution_count": 39,
   "metadata": {},
   "outputs": [
    {
     "data": {
      "text/plain": [
       "\" \\n\\n# replace '0' with the global average: average of all movies and all users\\ntr_x_mean_all = np.mean(tr_x) \\nprint(tr_x_mean_all)\\ntr_x_no_zeros = tr_x\\ntr_x_no_zeros[(tr_x==0)]=tr_x_mean_all\\n\\ntr_x = tr_x_no_zeros\\n\\n\\n\\n# mean by column (the average rating of each movie)\\ntr_x_mean_by_column = np.mean(tr_x, axis=0)\\n#tr_x_mean_by_column\\n\\n\\n\""
      ]
     },
     "execution_count": 39,
     "output_type": "execute_result",
     "metadata": {}
    }
   ],
   "source": [
    "''' \n",
    "\n",
    "# replace '0' with the global average: average of all movies and all users\n",
    "tr_x_mean_all = np.mean(tr_x) \n",
    "print(tr_x_mean_all)\n",
    "tr_x_no_zeros = tr_x\n",
    "tr_x_no_zeros[(tr_x==0)]=tr_x_mean_all\n",
    "\n",
    "tr_x = tr_x_no_zeros\n",
    "\n",
    "\n",
    "\n",
    "# mean by column (the average rating of each movie)\n",
    "tr_x_mean_by_column = np.mean(tr_x, axis=0)\n",
    "#tr_x_mean_by_column\n",
    "\n",
    "\n",
    "'''"
   ]
  },
  {
   "cell_type": "code",
   "execution_count": 40,
   "metadata": {},
   "outputs": [
    {
     "data": {
      "text/plain": [
       "'\\n# Create linear regression object\\n# Train the model using the training sets\\nregr_partial.fit(tr_x_no_zeros, tr_y_train)\\n\\n# The mean squared error\\n# Explained variance score: 1 is perfect prediction\\nprint(\\'Variance score: %.2f\\' % regr_partial.score(tr_x_validate, tr_y_validate))\\n# lm.score() -> Returns the coefficient of determination (R^2). A measure of how well observed outcomes are replicated by the model, as the proportion of total variation of outcomes explained by the model. \\n\\nprint(\"Mean squared error on the Validation data: %.4f\" \\n      % np.sqrt(np.mean((regr_partial.predict(tr_x_validate[:,0:14]) - tr_y_validate) ** 2)))\\n'"
      ]
     },
     "execution_count": 40,
     "output_type": "execute_result",
     "metadata": {}
    }
   ],
   "source": [
    "'''\n",
    "# Create linear regression object\n",
    "# Train the model using the training sets\n",
    "regr_partial.fit(tr_x_no_zeros, tr_y_train)\n",
    "\n",
    "# The mean squared error\n",
    "# Explained variance score: 1 is perfect prediction\n",
    "print('Variance score: %.2f' % regr_partial.score(tr_x_validate, tr_y_validate))\n",
    "# lm.score() -> Returns the coefficient of determination (R^2). A measure of how well observed outcomes are replicated by the model, as the proportion of total variation of outcomes explained by the model. \n",
    "\n",
    "print(\"Mean squared error on the Validation data: %.4f\" \n",
    "      % np.sqrt(np.mean((regr_partial.predict(tr_x_validate[:,0:14]) - tr_y_validate) ** 2)))\n",
    "'''"
   ]
  },
  {
   "cell_type": "markdown",
   "metadata": {},
   "source": [
    "#### Cross-Validation "
   ]
  },
  {
   "cell_type": "code",
   "execution_count": 41,
   "metadata": {},
   "outputs": [
    {
     "ename": "NameError",
     "evalue": "name 'model_selection' is not defined",
     "output_type": "error",
     "traceback": [
      "\u001b[1;31m---------------------------------------------------------------------------\u001b[0m",
      "\u001b[1;31mNameError\u001b[0m                                 Traceback (most recent call last)",
      "\u001b[1;32m<ipython-input-41-5bd3da2d5e5e>\u001b[0m in \u001b[0;36m<module>\u001b[1;34m()\u001b[0m\n\u001b[0;32m      6\u001b[0m \u001b[0mseed\u001b[0m \u001b[1;33m=\u001b[0m \u001b[1;36m0\u001b[0m\u001b[1;33m\u001b[0m\u001b[0m\n\u001b[0;32m      7\u001b[0m \u001b[1;33m\u001b[0m\u001b[0m\n\u001b[1;32m----> 8\u001b[1;33m \u001b[0mkfold\u001b[0m \u001b[1;33m=\u001b[0m \u001b[0mmodel_selection\u001b[0m\u001b[1;33m.\u001b[0m\u001b[0mKFold\u001b[0m\u001b[1;33m(\u001b[0m\u001b[0mn_splits\u001b[0m\u001b[1;33m=\u001b[0m\u001b[1;36m10\u001b[0m\u001b[1;33m,\u001b[0m \u001b[0mshuffle\u001b[0m\u001b[1;33m=\u001b[0m\u001b[0mTrue\u001b[0m\u001b[1;33m,\u001b[0m \u001b[0mrandom_state\u001b[0m \u001b[1;33m=\u001b[0m \u001b[0mseed\u001b[0m\u001b[1;33m)\u001b[0m\u001b[1;33m\u001b[0m\u001b[0m\n\u001b[0m\u001b[0;32m      9\u001b[0m \u001b[0mmodel\u001b[0m \u001b[1;33m=\u001b[0m \u001b[0mlinear_model\u001b[0m\u001b[1;33m.\u001b[0m\u001b[0mLinearRegression\u001b[0m\u001b[1;33m(\u001b[0m\u001b[1;33m)\u001b[0m\u001b[1;33m\u001b[0m\u001b[0m\n\u001b[0;32m     10\u001b[0m \u001b[1;33m\u001b[0m\u001b[0m\n",
      "\u001b[1;31mNameError\u001b[0m: name 'model_selection' is not defined"
     ]
    }
   ],
   "source": [
    "#num_instances = 8000\n",
    "#kfold = cross_validation.KFold(n=num_instances, n_folds=num_folds, random_state=seed)\n",
    "\n",
    "\n",
    "num_folds = 10\n",
    "seed = 0\n",
    "\n",
    "kfold = model_selection.KFold(n_splits=10, shuffle=True, random_state = seed)\n",
    "model = linear_model.LinearRegression()\n",
    "\n",
    "\n",
    "scores = model_selection.cross_val_score( model, tr_x, tr_y, cv=kfold, scoring='neg_mean_squared_error')\n",
    "print(np.sqrt(-np.mean(scores)))\n",
    "np.sqrt(-scores)"
   ]
  },
  {
   "cell_type": "code",
   "execution_count": null,
   "metadata": {},
   "outputs": [],
   "source": [
    ""
   ]
  },
  {
   "cell_type": "markdown",
   "metadata": {},
   "source": [
    "## Naive Bayes Classification"
   ]
  },
  {
   "cell_type": "code",
   "execution_count": 42,
   "metadata": {},
   "outputs": [
    {
     "ename": "NameError",
     "evalue": "name 'tr_y_train' is not defined",
     "output_type": "error",
     "traceback": [
      "\u001b[1;31m---------------------------------------------------------------------------\u001b[0m",
      "\u001b[1;31mNameError\u001b[0m                                 Traceback (most recent call last)",
      "\u001b[1;32m<ipython-input-42-c00f644282e2>\u001b[0m in \u001b[0;36m<module>\u001b[1;34m()\u001b[0m\n\u001b[0;32m      2\u001b[0m \u001b[0mprior\u001b[0m \u001b[1;33m=\u001b[0m \u001b[0mnp\u001b[0m\u001b[1;33m.\u001b[0m\u001b[0mzeros\u001b[0m\u001b[1;33m(\u001b[0m\u001b[1;36m6\u001b[0m\u001b[1;33m)\u001b[0m\u001b[1;33m\u001b[0m\u001b[0m\n\u001b[0;32m      3\u001b[0m \u001b[1;32mfor\u001b[0m \u001b[0my\u001b[0m \u001b[1;32min\u001b[0m \u001b[0mrange\u001b[0m\u001b[1;33m(\u001b[0m\u001b[1;36m0\u001b[0m\u001b[1;33m,\u001b[0m\u001b[1;36m6\u001b[0m\u001b[1;33m)\u001b[0m\u001b[1;33m:\u001b[0m\u001b[1;33m\u001b[0m\u001b[0m\n\u001b[1;32m----> 4\u001b[1;33m     \u001b[0mtemp\u001b[0m \u001b[1;33m=\u001b[0m \u001b[1;33m(\u001b[0m\u001b[0mtr_y_train\u001b[0m \u001b[1;33m==\u001b[0m \u001b[0my\u001b[0m\u001b[1;33m)\u001b[0m\u001b[1;33m\u001b[0m\u001b[0m\n\u001b[0m\u001b[0;32m      5\u001b[0m     \u001b[0mcnt\u001b[0m \u001b[1;33m=\u001b[0m \u001b[0msum\u001b[0m\u001b[1;33m(\u001b[0m\u001b[0mtemp\u001b[0m\u001b[1;33m)\u001b[0m\u001b[1;33m\u001b[0m\u001b[0m\n\u001b[0;32m      6\u001b[0m     \u001b[0mprior\u001b[0m\u001b[1;33m[\u001b[0m\u001b[0my\u001b[0m\u001b[1;33m]\u001b[0m \u001b[1;33m=\u001b[0m \u001b[0mcnt\u001b[0m\u001b[1;33m\u001b[0m\u001b[0m\n",
      "\u001b[1;31mNameError\u001b[0m: name 'tr_y_train' is not defined"
     ]
    }
   ],
   "source": [
    "# use the training data to learn the probabilities\n",
    "prior = np.zeros(6)\n",
    "for y in range(0,6):\n",
    "    temp = (tr_y_train == y)\n",
    "    cnt = sum(temp)\n",
    "    prior[y] = cnt\n",
    "\n",
    "s= np.sum(prior)\n",
    "prior = prior/s\n",
    "print(prior)"
   ]
  },
  {
   "cell_type": "code",
   "execution_count": 43,
   "metadata": {},
   "outputs": [
    {
     "ename": "NameError",
     "evalue": "name 'tr_y_train' is not defined",
     "output_type": "error",
     "traceback": [
      "\u001b[1;31m---------------------------------------------------------------------------\u001b[0m",
      "\u001b[1;31mNameError\u001b[0m                                 Traceback (most recent call last)",
      "\u001b[1;32m<ipython-input-43-63dcdb6d4b62>\u001b[0m in \u001b[0;36m<module>\u001b[1;34m()\u001b[0m\n\u001b[0;32m      1\u001b[0m \u001b[1;31m#plt.hist(tr_y, )\u001b[0m\u001b[1;33m\u001b[0m\u001b[1;33m\u001b[0m\u001b[0m\n\u001b[0;32m      2\u001b[0m \u001b[0mbinwidth\u001b[0m \u001b[1;33m=\u001b[0m \u001b[1;36m1\u001b[0m\u001b[1;33m\u001b[0m\u001b[0m\n\u001b[1;32m----> 3\u001b[1;33m \u001b[0mbins\u001b[0m\u001b[1;33m=\u001b[0m\u001b[0mrange\u001b[0m\u001b[1;33m(\u001b[0m\u001b[0mmin\u001b[0m\u001b[1;33m(\u001b[0m\u001b[0mtr_y_train\u001b[0m\u001b[1;33m)\u001b[0m\u001b[1;33m,\u001b[0m \u001b[0mmax\u001b[0m\u001b[1;33m(\u001b[0m\u001b[0mtr_y_train\u001b[0m\u001b[1;33m)\u001b[0m \u001b[1;33m+\u001b[0m \u001b[0mbinwidth\u001b[0m\u001b[1;33m*\u001b[0m\u001b[1;36m2\u001b[0m\u001b[1;33m,\u001b[0m \u001b[0mbinwidth\u001b[0m\u001b[1;33m)\u001b[0m\u001b[1;33m\u001b[0m\u001b[0m\n\u001b[0m\u001b[0;32m      4\u001b[0m \u001b[0mbins\u001b[0m\u001b[1;33m=\u001b[0m\u001b[1;33m[\u001b[0m\u001b[1;33m-\u001b[0m\u001b[1;36m0.5\u001b[0m\u001b[1;33m,\u001b[0m\u001b[1;36m0.5\u001b[0m\u001b[1;33m,\u001b[0m \u001b[1;36m1.5\u001b[0m\u001b[1;33m,\u001b[0m \u001b[1;36m2.5\u001b[0m\u001b[1;33m,\u001b[0m \u001b[1;36m3.5\u001b[0m\u001b[1;33m,\u001b[0m \u001b[1;36m4.5\u001b[0m \u001b[1;33m,\u001b[0m \u001b[1;36m5.5\u001b[0m\u001b[1;33m]\u001b[0m\u001b[1;33m\u001b[0m\u001b[0m\n\u001b[0;32m      5\u001b[0m \u001b[0mplt\u001b[0m\u001b[1;33m.\u001b[0m\u001b[0mhist\u001b[0m\u001b[1;33m(\u001b[0m\u001b[0mtr_y_train\u001b[0m\u001b[1;33m,\u001b[0m\u001b[0mbins\u001b[0m\u001b[1;33m=\u001b[0m\u001b[0mbins\u001b[0m \u001b[1;33m)\u001b[0m\u001b[1;33m\u001b[0m\u001b[0m\n",
      "\u001b[1;31mNameError\u001b[0m: name 'tr_y_train' is not defined"
     ]
    }
   ],
   "source": [
    "#plt.hist(tr_y, )\n",
    "binwidth = 1\n",
    "bins=range(min(tr_y_train), max(tr_y_train) + binwidth*2, binwidth)\n",
    "bins=[-0.5,0.5, 1.5, 2.5, 3.5, 4.5 , 5.5]\n",
    "plt.hist(tr_y_train,bins=bins )"
   ]
  },
  {
   "cell_type": "markdown",
   "metadata": {},
   "source": [
    "####  Build the 'Frequency' and 'Likelihood' tables"
   ]
  },
  {
   "cell_type": "code",
   "execution_count": 44,
   "metadata": {},
   "outputs": [
    {
     "ename": "NameError",
     "evalue": "name 'tr_x_train' is not defined",
     "output_type": "error",
     "traceback": [
      "\u001b[1;31m---------------------------------------------------------------------------\u001b[0m",
      "\u001b[1;31mNameError\u001b[0m                                 Traceback (most recent call last)",
      "\u001b[1;32m<ipython-input-44-056066aa257b>\u001b[0m in \u001b[0;36m<module>\u001b[1;34m()\u001b[0m\n\u001b[0;32m      1\u001b[0m \u001b[0mF\u001b[0m \u001b[1;33m=\u001b[0m \u001b[0mnp\u001b[0m\u001b[1;33m.\u001b[0m\u001b[0mzeros\u001b[0m\u001b[1;33m(\u001b[0m\u001b[1;33m(\u001b[0m\u001b[1;36m14\u001b[0m\u001b[1;33m,\u001b[0m\u001b[1;36m6\u001b[0m\u001b[1;33m,\u001b[0m\u001b[1;36m6\u001b[0m\u001b[1;33m)\u001b[0m\u001b[1;33m)\u001b[0m\u001b[1;33m\u001b[0m\u001b[0m\n\u001b[0;32m      2\u001b[0m \u001b[1;32mfor\u001b[0m \u001b[0mk\u001b[0m \u001b[1;32min\u001b[0m \u001b[0mrange\u001b[0m\u001b[1;33m(\u001b[0m\u001b[1;36m0\u001b[0m\u001b[1;33m,\u001b[0m\u001b[1;36m14\u001b[0m\u001b[1;33m)\u001b[0m\u001b[1;33m:\u001b[0m\u001b[1;33m\u001b[0m\u001b[0m\n\u001b[1;32m----> 3\u001b[1;33m     \u001b[1;32mfor\u001b[0m \u001b[0mi\u001b[0m \u001b[1;32min\u001b[0m \u001b[0mrange\u001b[0m\u001b[1;33m(\u001b[0m\u001b[1;36m0\u001b[0m\u001b[1;33m,\u001b[0m\u001b[0mtr_x_train\u001b[0m\u001b[1;33m.\u001b[0m\u001b[0mshape\u001b[0m\u001b[1;33m[\u001b[0m\u001b[1;36m0\u001b[0m\u001b[1;33m]\u001b[0m\u001b[1;33m)\u001b[0m\u001b[1;33m:\u001b[0m\u001b[1;33m\u001b[0m\u001b[0m\n\u001b[0m\u001b[0;32m      4\u001b[0m         \u001b[0mx\u001b[0m \u001b[1;33m=\u001b[0m \u001b[0mtr_x_train\u001b[0m\u001b[1;33m[\u001b[0m\u001b[0mi\u001b[0m\u001b[1;33m,\u001b[0m\u001b[0mk\u001b[0m\u001b[1;33m]\u001b[0m\u001b[1;33m\u001b[0m\u001b[0m\n\u001b[0;32m      5\u001b[0m         \u001b[0my\u001b[0m \u001b[1;33m=\u001b[0m \u001b[0mtr_y_train\u001b[0m\u001b[1;33m[\u001b[0m\u001b[0mi\u001b[0m\u001b[1;33m]\u001b[0m\u001b[1;33m\u001b[0m\u001b[0m\n",
      "\u001b[1;31mNameError\u001b[0m: name 'tr_x_train' is not defined"
     ]
    }
   ],
   "source": [
    "F = np.zeros((14,6,6))\n",
    "for k in range(0,14):\n",
    "    for i in range(0,tr_x_train.shape[0]):\n",
    "        x = tr_x_train[i,k]\n",
    "        y = tr_y_train[i]\n",
    "        F[k,x,y] = F[k,x,y]+1\n",
    "    \n",
    "print('sum of values = ' , sum(sum(F[0,:,:])))\n",
    "F[0,:,:]"
   ]
  },
  {
   "cell_type": "code",
   "execution_count": 45,
   "metadata": {},
   "outputs": [
    {
     "name": "stdout",
     "output_type": "stream",
     "text": [
      "Note: the sum of each column is 1\n"
     ]
    }
   ],
   "source": [
    "# build the likelihood matrix for each \n",
    "print('Note: the sum of each column is 1')\n",
    "Likelihood = np.zeros((14,6,6))\n",
    "for k in range(0,14):\n",
    "    F_marginal = np.sum(F[k,:,:],axis=0)\n",
    "    Likelihood[k,:,:] = np.divide(F[k,:,:],F_marginal)\n",
    "    Likelihood[np.isnan(Likelihood)]=0"
   ]
  },
  {
   "cell_type": "code",
   "execution_count": 46,
   "metadata": {},
   "outputs": [
    {
     "data": {
      "text/plain": [
       "array([ 0.,  0.,  0.,  0.,  0.,  0.])"
      ]
     },
     "execution_count": 46,
     "output_type": "execute_result",
     "metadata": {}
    }
   ],
   "source": [
    "F_marginal"
   ]
  },
  {
   "cell_type": "code",
   "execution_count": 47,
   "metadata": {},
   "outputs": [
    {
     "name": "stdout",
     "output_type": "stream",
     "text": [
      "Note: the sum of each column is 1\n"
     ]
    }
   ],
   "source": [
    "# build the likelihood matrix for each \n",
    "print('Note: the sum of each column is 1')\n",
    "Likelihood = np.zeros((14,6,6))\n",
    "for k in range(0,14):\n",
    "    F_marginal = np.sum(F[k,:,:],axis=0)\n",
    "    for i in range(6):\n",
    "        if (F_marginal[i] != 0):\n",
    "            Likelihood[k,:,i] = np.divide(F[k,:,i],F_marginal[i])"
   ]
  },
  {
   "cell_type": "code",
   "execution_count": 48,
   "metadata": {},
   "outputs": [
    {
     "name": "stdout",
     "output_type": "stream",
     "text": [
      "The Likelihood table in %\n",
      "[[ 0.  0.  0.  0.  0.  0.]\n",
      " [ 0.  0.  0.  0.  0.  0.]\n",
      " [ 0.  0.  0.  0.  0.  0.]\n",
      " [ 0.  0.  0.  0.  0.  0.]\n",
      " [ 0.  0.  0.  0.  0.  0.]\n",
      " [ 0.  0.  0.  0.  0.  0.]]\n",
      "Note: the sum of each column is 1\n"
     ]
    }
   ],
   "source": [
    "print('The Likelihood table in %')\n",
    "print(np.round(Likelihood[0,:,:]  *100))\n",
    "print('Note: the sum of each column is 1')"
   ]
  },
  {
   "cell_type": "code",
   "execution_count": 49,
   "metadata": {},
   "outputs": [
    {
     "data": {
      "text/plain": [
       "array([[ 0.,  0.,  0.,  0.,  0.,  0.],\n",
       "       [ 0.,  0.,  0.,  0.,  0.,  0.],\n",
       "       [ 0.,  0.,  0.,  0.,  0.,  0.],\n",
       "       [ 0.,  0.,  0.,  0.,  0.,  0.],\n",
       "       [ 0.,  0.,  0.,  0.,  0.,  0.],\n",
       "       [ 0.,  0.,  0.,  0.,  0.,  0.]])"
      ]
     },
     "execution_count": 49,
     "output_type": "execute_result",
     "metadata": {}
    }
   ],
   "source": [
    "# Calculate P(X|y)=P(x1|y)*P(x2|y)*P(x3|y)\n",
    "Likelihood[0,:,:]"
   ]
  },
  {
   "cell_type": "code",
   "execution_count": 50,
   "metadata": {},
   "outputs": [
    {
     "ename": "NameError",
     "evalue": "name 'tr_x_validate' is not defined",
     "output_type": "error",
     "traceback": [
      "\u001b[1;31m---------------------------------------------------------------------------\u001b[0m",
      "\u001b[1;31mNameError\u001b[0m                                 Traceback (most recent call last)",
      "\u001b[1;32m<ipython-input-50-0f3d4ebb9cd2>\u001b[0m in \u001b[0;36m<module>\u001b[1;34m()\u001b[0m\n\u001b[0;32m      2\u001b[0m \u001b[0mPosterior\u001b[0m \u001b[1;33m=\u001b[0m \u001b[0mnp\u001b[0m\u001b[1;33m.\u001b[0m\u001b[0mzeros\u001b[0m\u001b[1;33m(\u001b[0m\u001b[1;36m6\u001b[0m\u001b[1;33m)\u001b[0m\u001b[1;33m\u001b[0m\u001b[0m\n\u001b[0;32m      3\u001b[0m \u001b[1;31m#for user in tr_x_validate:\u001b[0m\u001b[1;33m\u001b[0m\u001b[1;33m\u001b[0m\u001b[0m\n\u001b[1;32m----> 4\u001b[1;33m \u001b[0muser_rating\u001b[0m \u001b[1;33m=\u001b[0m \u001b[0mtr_x_validate\u001b[0m\u001b[1;33m[\u001b[0m\u001b[0mi\u001b[0m\u001b[1;33m,\u001b[0m\u001b[1;33m:\u001b[0m\u001b[1;33m]\u001b[0m\u001b[1;33m\u001b[0m\u001b[0m\n\u001b[0m\u001b[0;32m      5\u001b[0m \u001b[1;33m\u001b[0m\u001b[0m\n\u001b[0;32m      6\u001b[0m \u001b[1;32mprint\u001b[0m\u001b[1;33m(\u001b[0m\u001b[1;34m'user rating for the 99 movies -> This is X'\u001b[0m\u001b[1;33m)\u001b[0m\u001b[1;33m\u001b[0m\u001b[0m\n",
      "\u001b[1;31mNameError\u001b[0m: name 'tr_x_validate' is not defined"
     ]
    }
   ],
   "source": [
    "i=0\n",
    "Posterior = np.zeros(6)\n",
    "#for user in tr_x_validate:\n",
    "user_rating = tr_x_validate[i,:]    \n",
    "\n",
    "print('user rating for the 99 movies -> This is X')\n",
    "print(user_rating)\n",
    "\n",
    "for y in range(0,6): # the options for 'y' are {0,1,2,3,4,5}\n",
    "    L = 1\n",
    "    \n",
    "    print('The prior for the value of \"y=%2.0f\" is %2.5f' % (y,L) )\n",
    "    for k in range(0,14):\n",
    "        x = user_rating[k]\n",
    "        L = L*Likelihood[k,x,y]\n",
    "        # print(Likelihood[k,x,y])\n",
    "    Posterior[y] = L*prior[y]\n",
    "\n",
    "s = np.sum(Posterior[1:]) \n",
    "Posterior = Posterior/s\n",
    "Expected = np.multiply(Posterior[1:],[1,2,3,4,5])\n",
    "print(np.round(Posterior))        \n",
    "print('Expected: ')\n",
    "print(np.sum(Expected))\n",
    "\n",
    "print('The real value:')\n",
    "print(tr_y_validate[i])"
   ]
  },
  {
   "cell_type": "code",
   "execution_count": 51,
   "metadata": {},
   "outputs": [
    {
     "data": {
      "text/plain": [
       "array([ 0.,  0.,  0.,  0.,  0.,  0.])"
      ]
     },
     "execution_count": 51,
     "output_type": "execute_result",
     "metadata": {}
    }
   ],
   "source": [
    "Posterior"
   ]
  },
  {
   "cell_type": "code",
   "execution_count": 52,
   "metadata": {},
   "outputs": [
    {
     "ename": "NameError",
     "evalue": "name 'tr_y_validate' is not defined",
     "output_type": "error",
     "traceback": [
      "\u001b[1;31m---------------------------------------------------------------------------\u001b[0m",
      "\u001b[1;31mNameError\u001b[0m                                 Traceback (most recent call last)",
      "\u001b[1;32m<ipython-input-52-23fdbed3588c>\u001b[0m in \u001b[0;36m<module>\u001b[1;34m()\u001b[0m\n\u001b[0;32m      1\u001b[0m \u001b[0mNB_regression\u001b[0m \u001b[1;33m=\u001b[0m \u001b[1;36m1\u001b[0m\u001b[1;33m\u001b[0m\u001b[0m\n\u001b[1;32m----> 2\u001b[1;33m \u001b[0mtr_y_validate_est_NBfirst14\u001b[0m \u001b[1;33m=\u001b[0m \u001b[0mnp\u001b[0m\u001b[1;33m.\u001b[0m\u001b[0mzeros\u001b[0m\u001b[1;33m(\u001b[0m\u001b[0mtr_y_validate\u001b[0m\u001b[1;33m.\u001b[0m\u001b[0mshape\u001b[0m\u001b[1;33m)\u001b[0m\u001b[1;33m\u001b[0m\u001b[0m\n\u001b[0m\u001b[0;32m      3\u001b[0m \u001b[1;32mfor\u001b[0m \u001b[0mi\u001b[0m \u001b[1;32min\u001b[0m \u001b[0mrange\u001b[0m\u001b[1;33m(\u001b[0m\u001b[1;36m0\u001b[0m\u001b[1;33m,\u001b[0m\u001b[0mtr_x_validate\u001b[0m\u001b[1;33m.\u001b[0m\u001b[0mshape\u001b[0m\u001b[1;33m[\u001b[0m\u001b[1;36m0\u001b[0m\u001b[1;33m]\u001b[0m\u001b[1;33m)\u001b[0m\u001b[1;33m:\u001b[0m\u001b[1;33m\u001b[0m\u001b[0m\n\u001b[0;32m      4\u001b[0m     \u001b[0mPosterior\u001b[0m \u001b[1;33m=\u001b[0m \u001b[0mnp\u001b[0m\u001b[1;33m.\u001b[0m\u001b[0mzeros\u001b[0m\u001b[1;33m(\u001b[0m\u001b[1;36m6\u001b[0m\u001b[1;33m)\u001b[0m\u001b[1;33m\u001b[0m\u001b[0m\n\u001b[0;32m      5\u001b[0m     \u001b[1;31m#for user in tr_x_validate:\u001b[0m\u001b[1;33m\u001b[0m\u001b[1;33m\u001b[0m\u001b[0m\n",
      "\u001b[1;31mNameError\u001b[0m: name 'tr_y_validate' is not defined"
     ]
    }
   ],
   "source": [
    "NB_regression = 1\n",
    "tr_y_validate_est_NBfirst14 = np.zeros(tr_y_validate.shape)\n",
    "for i in range(0,tr_x_validate.shape[0]):\n",
    "    Posterior = np.zeros(6)\n",
    "    #for user in tr_x_validate:\n",
    "    user_rating = tr_x_validate[i,:]    \n",
    "\n",
    "\n",
    "    for y in range(0,6): # the options for 'y' are {0,1,2,3,4,5}\n",
    "        L = prior[y]\n",
    "    \n",
    "        for k in range(0,14):\n",
    "            x = user_rating[k]\n",
    "            L = L*Likelihood[k,x,y]\n",
    "            Posterior[y] = L\n",
    "\n",
    "    if (NB_regression):\n",
    "        s = np.sum(Posterior) \n",
    "        Posterior = Posterior/s\n",
    "        Expected = np.multiply(Posterior,[0,1,2,3,4,5])\n",
    "        tr_y_validate_est_NBfirst14[i] = np.sum(Expected)\n",
    "    else:\n",
    "        g = np.argmax(Posterior)\n",
    "        tr_y_validate_est_NBfirst14[i] = g"
   ]
  },
  {
   "cell_type": "code",
   "execution_count": 53,
   "metadata": {},
   "outputs": [
    {
     "data": {
      "text/plain": [
       "3"
      ]
     },
     "execution_count": 53,
     "output_type": "execute_result",
     "metadata": {}
    }
   ],
   "source": [
    "g = np.argmax([0,1,2,3,2,1])\n",
    "g"
   ]
  },
  {
   "cell_type": "code",
   "execution_count": 54,
   "metadata": {},
   "outputs": [
    {
     "data": {
      "text/plain": [
       "array([ 0.,  0.,  0.,  0.,  0.,  0.])"
      ]
     },
     "execution_count": 54,
     "output_type": "execute_result",
     "metadata": {}
    }
   ],
   "source": [
    "Posterior"
   ]
  },
  {
   "cell_type": "code",
   "execution_count": 55,
   "metadata": {},
   "outputs": [
    {
     "ename": "NameError",
     "evalue": "name 'tr_y_validate_est_NBfirst14' is not defined",
     "output_type": "error",
     "traceback": [
      "\u001b[1;31m---------------------------------------------------------------------------\u001b[0m",
      "\u001b[1;31mNameError\u001b[0m                                 Traceback (most recent call last)",
      "\u001b[1;32m<ipython-input-55-7df183ed5c9f>\u001b[0m in \u001b[0;36m<module>\u001b[1;34m()\u001b[0m\n\u001b[1;32m----> 1\u001b[1;33m \u001b[0mRMSE_out_sample_NBfirst14\u001b[0m \u001b[1;33m=\u001b[0m \u001b[0mnp\u001b[0m\u001b[1;33m.\u001b[0m\u001b[0msqrt\u001b[0m\u001b[1;33m(\u001b[0m\u001b[0mnp\u001b[0m\u001b[1;33m.\u001b[0m\u001b[0mmean\u001b[0m\u001b[1;33m(\u001b[0m\u001b[1;33m(\u001b[0m\u001b[0mtr_y_validate_est_NBfirst14\u001b[0m \u001b[1;33m-\u001b[0m \u001b[0mtr_y_validate\u001b[0m\u001b[1;33m)\u001b[0m \u001b[1;33m**\u001b[0m \u001b[1;36m2\u001b[0m\u001b[1;33m)\u001b[0m\u001b[1;33m)\u001b[0m\u001b[1;33m\u001b[0m\u001b[0m\n\u001b[0m\u001b[0;32m      2\u001b[0m \u001b[1;33m\u001b[0m\u001b[0m\n\u001b[0;32m      3\u001b[0m \u001b[1;32mprint\u001b[0m\u001b[1;33m(\u001b[0m\u001b[1;34m\"RMSE out sample: Mean squared error on the Validation data using NB on the first14: %.4f\"\u001b[0m \u001b[1;33m%\u001b[0m \u001b[0mRMSE_out_sample_NBfirst14\u001b[0m \u001b[1;33m)\u001b[0m\u001b[1;33m\u001b[0m\u001b[0m\n",
      "\u001b[1;31mNameError\u001b[0m: name 'tr_y_validate_est_NBfirst14' is not defined"
     ]
    }
   ],
   "source": [
    "RMSE_out_sample_NBfirst14 = np.sqrt(np.mean((tr_y_validate_est_NBfirst14 - tr_y_validate) ** 2))\n",
    "\n",
    "print(\"RMSE out sample: Mean squared error on the Validation data using NB on the first14: %.4f\" % RMSE_out_sample_NBfirst14 )"
   ]
  },
  {
   "cell_type": "code",
   "execution_count": null,
   "metadata": {},
   "outputs": [],
   "source": [
    ""
   ]
  },
  {
   "cell_type": "code",
   "execution_count": 56,
   "metadata": {},
   "outputs": [
    {
     "ename": "IndexError",
     "evalue": "invalid index to scalar variable.",
     "output_type": "error",
     "traceback": [
      "\u001b[1;31m---------------------------------------------------------------------------\u001b[0m",
      "\u001b[1;31mIndexError\u001b[0m                                Traceback (most recent call last)",
      "\u001b[1;32m<ipython-input-56-358780145f21>\u001b[0m in \u001b[0;36m<module>\u001b[1;34m()\u001b[0m\n\u001b[1;32m----> 1\u001b[1;33m \u001b[0mprior\u001b[0m\u001b[1;33m[\u001b[0m\u001b[1;36m0\u001b[0m\u001b[1;33m]\u001b[0m\u001b[1;33m[\u001b[0m\u001b[1;36m0\u001b[0m\u001b[1;33m]\u001b[0m\u001b[1;33m\u001b[0m\u001b[0m\n\u001b[0m",
      "\u001b[1;31mIndexError\u001b[0m: invalid index to scalar variable."
     ]
    }
   ],
   "source": [
    "prior[0][0]"
   ]
  },
  {
   "cell_type": "code",
   "execution_count": null,
   "metadata": {},
   "outputs": [],
   "source": [
    ""
   ]
  },
  {
   "cell_type": "code",
   "execution_count": 57,
   "metadata": {},
   "outputs": [
    {
     "ename": "NameError",
     "evalue": "name 'tr_x_train' is not defined",
     "output_type": "error",
     "traceback": [
      "\u001b[1;31m---------------------------------------------------------------------------\u001b[0m",
      "\u001b[1;31mNameError\u001b[0m                                 Traceback (most recent call last)",
      "\u001b[1;32m<ipython-input-57-b1e7c866ff0e>\u001b[0m in \u001b[0;36m<module>\u001b[1;34m()\u001b[0m\n\u001b[0;32m      3\u001b[0m \u001b[0mF\u001b[0m \u001b[1;33m=\u001b[0m \u001b[0mnp\u001b[0m\u001b[1;33m.\u001b[0m\u001b[0mzeros\u001b[0m\u001b[1;33m(\u001b[0m\u001b[1;33m(\u001b[0m\u001b[1;36m14\u001b[0m\u001b[1;33m,\u001b[0m\u001b[1;36m6\u001b[0m\u001b[1;33m,\u001b[0m\u001b[1;36m6\u001b[0m\u001b[1;33m)\u001b[0m\u001b[1;33m)\u001b[0m\u001b[1;33m\u001b[0m\u001b[0m\n\u001b[0;32m      4\u001b[0m \u001b[1;32mfor\u001b[0m \u001b[0mk\u001b[0m \u001b[1;32min\u001b[0m \u001b[0mrange\u001b[0m\u001b[1;33m(\u001b[0m\u001b[1;36m0\u001b[0m\u001b[1;33m,\u001b[0m\u001b[1;36m14\u001b[0m\u001b[1;33m)\u001b[0m\u001b[1;33m:\u001b[0m\u001b[1;33m\u001b[0m\u001b[0m\n\u001b[1;32m----> 5\u001b[1;33m     \u001b[0mHist2D\u001b[0m\u001b[1;33m,\u001b[0m \u001b[0mxedgess\u001b[0m\u001b[1;33m,\u001b[0m\u001b[0myedgess\u001b[0m \u001b[1;33m=\u001b[0m \u001b[0mnp\u001b[0m\u001b[1;33m.\u001b[0m\u001b[0mhistogram2d\u001b[0m\u001b[1;33m(\u001b[0m\u001b[0mtr_x_train\u001b[0m\u001b[1;33m[\u001b[0m\u001b[1;33m:\u001b[0m\u001b[1;33m,\u001b[0m\u001b[0mk\u001b[0m\u001b[1;33m]\u001b[0m\u001b[1;33m,\u001b[0m\u001b[0mtr_y_train\u001b[0m\u001b[1;33m,\u001b[0m\u001b[0mbins\u001b[0m\u001b[1;33m=\u001b[0m\u001b[1;33m(\u001b[0m\u001b[0mxedges\u001b[0m\u001b[1;33m,\u001b[0m \u001b[0myedges\u001b[0m\u001b[1;33m)\u001b[0m\u001b[1;33m)\u001b[0m\u001b[1;33m\u001b[0m\u001b[0m\n\u001b[0m\u001b[0;32m      6\u001b[0m     \u001b[0mF\u001b[0m\u001b[1;33m[\u001b[0m\u001b[0mk\u001b[0m\u001b[1;33m,\u001b[0m\u001b[1;33m:\u001b[0m\u001b[1;33m,\u001b[0m\u001b[1;33m:\u001b[0m\u001b[1;33m]\u001b[0m \u001b[1;33m=\u001b[0m \u001b[0mHist2D\u001b[0m\u001b[1;33m\u001b[0m\u001b[0m\n\u001b[0;32m      7\u001b[0m \u001b[1;32mprint\u001b[0m\u001b[1;33m(\u001b[0m\u001b[0mF\u001b[0m\u001b[1;33m[\u001b[0m\u001b[1;36m0\u001b[0m\u001b[1;33m,\u001b[0m\u001b[1;33m:\u001b[0m\u001b[1;33m,\u001b[0m\u001b[1;33m:\u001b[0m\u001b[1;33m]\u001b[0m\u001b[1;33m)\u001b[0m\u001b[1;33m\u001b[0m\u001b[0m\n",
      "\u001b[1;31mNameError\u001b[0m: name 'tr_x_train' is not defined"
     ]
    }
   ],
   "source": [
    "xedges = [-0.5, 0.5, 1.5, 2.5, 3.5, 4.5 , 5.5]\n",
    "yedges = [-0.5, 0.5, 1.5, 2.5, 3.5, 4.5 , 5.5]\n",
    "F = np.zeros((14,6,6))\n",
    "for k in range(0,14):\n",
    "    Hist2D, xedgess,yedgess = np.histogram2d(tr_x_train[:,k],tr_y_train,bins=(xedges, yedges))\n",
    "    F[k,:,:] = Hist2D\n",
    "print(F[0,:,:])"
   ]
  },
  {
   "cell_type": "code",
   "execution_count": 58,
   "metadata": {},
   "outputs": [
    {
     "name": "stdout",
     "output_type": "stream",
     "text": [
      "('The prior is ', array([ 0.,  0.,  0.,  0.,  0.,  0.]))\n"
     ]
    }
   ],
   "source": [
    "print('The prior is ', prior)"
   ]
  },
  {
   "cell_type": "markdown",
   "metadata": {},
   "source": [
    "## Prediction using 'zero' order estimator (use the mean)"
   ]
  },
  {
   "cell_type": "code",
   "execution_count": 59,
   "metadata": {},
   "outputs": [
    {
     "data": {
      "text/plain": [
       "3.6141999999999999"
      ]
     },
     "execution_count": 59,
     "output_type": "execute_result",
     "metadata": {}
    }
   ],
   "source": [
    "# The average rating of movie #100\n",
    "tr_y_mean = np.mean(tr_y)\n",
    "tr_y_mean"
   ]
  },
  {
   "cell_type": "code",
   "execution_count": 60,
   "metadata": {},
   "outputs": [
    {
     "data": {
      "text/plain": [
       "0.92395835999999998"
      ]
     },
     "execution_count": 60,
     "output_type": "execute_result",
     "metadata": {}
    }
   ],
   "source": [
    "#This is the MSE of the prediction, using the mean value of 'y' in the training set\n",
    "np.mean((tr_y - tr_y_mean)**2)"
   ]
  },
  {
   "cell_type": "code",
   "execution_count": 61,
   "metadata": {},
   "outputs": [
    {
     "data": {
      "text/plain": [
       "0.96122752769570641"
      ]
     },
     "execution_count": 61,
     "output_type": "execute_result",
     "metadata": {}
    }
   ],
   "source": [
    "# The MSE is exactly the variance of 'y' in the training set\n",
    "np.std(tr_y)"
   ]
  },
  {
   "cell_type": "code",
   "execution_count": 62,
   "metadata": {},
   "outputs": [
    {
     "data": {
      "text/plain": [
       "0"
      ]
     },
     "execution_count": 62,
     "output_type": "execute_result",
     "metadata": {}
    }
   ],
   "source": [
    "# Analyze the rating of the first 14 movies (rated by all)\n",
    "y"
   ]
  },
  {
   "cell_type": "code",
   "execution_count": 63,
   "metadata": {},
   "outputs": [],
   "source": [
    "# How to calculate the dot-product between a matrix and a vector\n",
    "\n",
    "# N = 10000\n",
    "# R =np.matrix(tr_yy).transpose()*np.matrix(tr_x[:,0:14])/N\n",
    "# R_num =tr_yy.transpose().dot(tr_x[:,0:14])/N"
   ]
  },
  {
   "cell_type": "code",
   "execution_count": 64,
   "metadata": {},
   "outputs": [],
   "source": [
    "# https://nbviewer.jupyter.org/gist/radato/3f42f25b586f8fa746f5cb93a948a724"
   ]
  },
  {
   "cell_type": "markdown",
   "metadata": {},
   "source": [
    "# comperison of Naive Bayes to Classical Bayes\n"
   ]
  },
  {
   "cell_type": "markdown",
   "metadata": {},
   "source": [
    "#####  This is a synthetic example: X is {0,1} in K=3 dimensions, and Y is the sum of the K components of X"
   ]
  },
  {
   "cell_type": "markdown",
   "metadata": {},
   "source": [
    "### Naive Bayes"
   ]
  },
  {
   "cell_type": "code",
   "execution_count": 65,
   "metadata": {},
   "outputs": [
    {
     "data": {
      "text/plain": [
       "(100000L,)"
      ]
     },
     "execution_count": 65,
     "output_type": "execute_result",
     "metadata": {}
    },
    {
     "data": {
      "image/png": "[encoded data removed]"
     },
     "output_type": "display_data",
     "metadata": {}
    }
   ],
   "source": [
    "N = 100000\n",
    "K = 3\n",
    "X = np.random.randint(2, size=(N, K))   # X is Binary {0,1}\n",
    "e = np.random.randint(3, size=(N))-1    # additive noise, not always used\n",
    "\n",
    "y = np.sum(X, axis=1)\n",
    "Y = y #+ e +1\n",
    "plt.hist(Y)\n",
    "y.shape"
   ]
  },
  {
   "cell_type": "code",
   "execution_count": 66,
   "metadata": {},
   "outputs": [
    {
     "name": "stdout",
     "output_type": "stream",
     "text": [
      "[ 0.12247  0.37662  0.37661  0.1243   0.       0.     ]\n"
     ]
    }
   ],
   "source": [
    "# use the training data to learn the probabilities\n",
    "prior = np.zeros(6)\n",
    "for y in range(0,6):\n",
    "    temp = (Y == y)\n",
    "    cnt = sum(temp)\n",
    "    prior[y] = cnt\n",
    "\n",
    "s= np.sum(prior)\n",
    "prior = prior/s\n",
    "print(prior)"
   ]
  },
  {
   "cell_type": "code",
   "execution_count": 67,
   "metadata": {},
   "outputs": [
    {
     "name": "stdout",
     "output_type": "stream",
     "text": [
      "('sum of values = ', 100000.0)\n",
      "The Frequency table of the 1st feature: (2 rows due to 2 values of x) (6 columns due to 6 values of y)\n",
      "The first row shows the probabilities of getting x=0 and the frequencies of getting the different values of y\n",
      "   P(x0=0,y=1) is more probable than P(x0=0, y=0)\n"
     ]
    },
    {
     "data": {
      "text/plain": [
       "array([[ 12247.,  25067.,  12559.,      0.,      0.,      0.],\n",
       "       [     0.,  12595.,  25102.,  12430.,      0.,      0.]])"
      ]
     },
     "execution_count": 67,
     "output_type": "execute_result",
     "metadata": {}
    }
   ],
   "source": [
    "F = np.zeros((3,2,6))\n",
    "\n",
    "# Dimensions: 'K=3' as there will be a Frequency table for each feature, \n",
    "# '2' is for 2 possible values of 'x', ' 6' for the 6 possible values of y \n",
    "for k in range(0,3):\n",
    "    \n",
    "    # Build the Frequency table for each variable 'k'\n",
    "    # Now iterate on all the data\n",
    "    for j in range(0,X.shape[0]):\n",
    "        x = X[j,k] # take the value of the Kth columns, which is the value of the Kth feature of X, at the 'j' sample\n",
    "        y = Y[j]\n",
    "        F[k,x,y] = F[k,x,y]+1    \n",
    "        # update the value of the Frequency table of the Kth variable at the place according to the value of 'x' and 'y'\n",
    "    \n",
    "print('sum of values = ' , sum(sum(F[0,:,:])))\n",
    "print('The Frequency table of the 1st feature: (2 rows due to 2 values of x) (6 columns due to 6 values of y)')\n",
    "print('The first row shows the probabilities of getting x=0 and the frequencies of getting the different values of y')\n",
    "print('   P(x0=0,y=1) is more probable than P(x0=0, y=0)')\n",
    "\n",
    "F[0,:,:]"
   ]
  },
  {
   "cell_type": "code",
   "execution_count": 68,
   "metadata": {},
   "outputs": [
    {
     "name": "stdout",
     "output_type": "stream",
     "text": [
      "Note: the sum of each column is 1\n",
      "Each value is calculated P(X|Y) = P(X,Y)/P(Y) , where P(Y) is calculated as P(Y|X=0)*P(X=0)+P(Y|X=1)*P(X=1)\n",
      "[[[ 100.   67.   33.    0.    0.    0.]\n",
      "  [   0.   33.   67.  100.    0.    0.]]\n",
      "\n",
      " [[ 100.   67.   33.    0.    0.    0.]\n",
      "  [   0.   33.   67.  100.    0.    0.]]\n",
      "\n",
      " [[ 100.   67.   33.    0.    0.    0.]\n",
      "  [   0.   33.   67.  100.    0.    0.]]]\n"
     ]
    }
   ],
   "source": [
    "# build the likelihood matrix for each \n",
    "print('Note: the sum of each column is 1')\n",
    "print('Each value is calculated P(X|Y) = P(X,Y)/P(Y) , where P(Y) is calculated as P(Y|X=0)*P(X=0)+P(Y|X=1)*P(X=1)')\n",
    "Likelihood = np.zeros((3,2,6))\n",
    "for k in range(0,3):\n",
    "    F_marginal = np.sum(F[k,:,:],axis=0)\n",
    "    Likelihood[k,:,:] = np.divide(F[k,:,:],F_marginal)\n",
    "    Likelihood[np.isnan(Likelihood)]=0\n",
    "\n",
    "print(np.round(100*Likelihood))"
   ]
  },
  {
   "cell_type": "code",
   "execution_count": 69,
   "metadata": {},
   "outputs": [
    {
     "name": "stdout",
     "output_type": "stream",
     "text": [
      "Note: the sum of each column is 1\n",
      "The Likelihood table in %\n",
      "[[ 100.   67.   33.    0.    0.    0.]\n",
      " [   0.   33.   67.  100.    0.    0.]]\n",
      "Note: the sum of each column is 1\n"
     ]
    },
    {
     "data": {
      "text/plain": [
       "array([[ 1.        ,  0.66557804,  0.33347495,  0.        ,  0.        ,\n",
       "         0.        ],\n",
       "       [ 0.        ,  0.33442196,  0.66652505,  1.        ,  0.        ,\n",
       "         0.        ]])"
      ]
     },
     "execution_count": 69,
     "output_type": "execute_result",
     "metadata": {}
    }
   ],
   "source": [
    "# build the likelihood matrix for each \n",
    "print('Note: the sum of each column is 1')\n",
    "Likelihood = np.zeros((3,2,6))\n",
    "for k in range(0,3):\n",
    "    F_marginal = np.sum(F[k,:,:],axis=0)\n",
    "    for i in range(6):\n",
    "        if (F_marginal[i] != 0):\n",
    "            Likelihood[k,:,i] = np.divide(F[k,:,i],F_marginal[i])\n",
    "            \n",
    "print('The Likelihood table in %')\n",
    "print(np.round(Likelihood[0,:,:]  *100))\n",
    "print('Note: the sum of each column is 1')\n",
    "\n",
    "# Calculate P(X|y)=P(x1|y)*P(x2|y)*P(x3|y)\n",
    "Likelihood[0,:,:]"
   ]
  },
  {
   "cell_type": "code",
   "execution_count": 70,
   "metadata": {},
   "outputs": [],
   "source": [
    "NB_regression = 0\n",
    "Y_est = np.zeros(Y.shape)\n",
    "for i in range(0,X.shape[0]):\n",
    "    Posterior = np.zeros(6)\n",
    "    #for user in tr_x_validate:\n",
    "    user_rating = X[i,:]    \n",
    "\n",
    "\n",
    "    # Loop for each Yk option\n",
    "    for y in range(0,6): # the options for 'y' are {0,1,2,3,4,5}\n",
    "        L = prior[y]\n",
    "    \n",
    "        #\n",
    "        for k in range(0,3):\n",
    "            x = user_rating[k]\n",
    "            L = L*Likelihood[k,x,y]\n",
    "            Posterior[y] = L\n",
    "\n",
    "    if (NB_regression):\n",
    "        s = np.sum(Posterior) \n",
    "        Posterior = Posterior/s\n",
    "        Expected = np.multiply(Posterior,[0,1,2,3,4,5])\n",
    "        Y_est[i] = np.sum(Expected)\n",
    "    else:\n",
    "        # classification\n",
    "        g = np.argmax(Posterior)\n",
    "        Y_est[i] = g"
   ]
  },
  {
   "cell_type": "code",
   "execution_count": 71,
   "metadata": {},
   "outputs": [
    {
     "data": {
      "text/plain": [
       "[array([2, 2, 1, ..., 2, 3, 1]), array([ 2.,  2.,  1., ...,  2.,  3.,  1.])]"
      ]
     },
     "execution_count": 71,
     "output_type": "execute_result",
     "metadata": {}
    }
   ],
   "source": [
    "[Y ,Y_est]"
   ]
  },
  {
   "cell_type": "code",
   "execution_count": 72,
   "metadata": {},
   "outputs": [
    {
     "data": {
      "text/plain": [
       "(array([      0.,       0.,       0.,       0.,       0.,  100000.,\n",
       "              0.,       0.,       0.,       0.]),\n",
       " array([-0.5, -0.4, -0.3, -0.2, -0.1,  0. ,  0.1,  0.2,  0.3,  0.4,  0.5]),\n",
       " <a list of 10 Patch objects>)"
      ]
     },
     "execution_count": 72,
     "output_type": "execute_result",
     "metadata": {}
    },
    {
     "data": {
      "image/png": "[encoded data removed]"
     },
     "output_type": "display_data",
     "metadata": {}
    }
   ],
   "source": [
    "plt.hist(Y-Y_est)"
   ]
  },
  {
   "cell_type": "markdown",
   "metadata": {},
   "source": [
    "### Classical Bayes"
   ]
  },
  {
   "cell_type": "code",
   "execution_count": 73,
   "metadata": {},
   "outputs": [
    {
     "name": "stdout",
     "output_type": "stream",
     "text": [
      "('sum of values = ', 12247.0)\n"
     ]
    },
    {
     "data": {
      "text/plain": [
       "array([[ 12247.,      0.,      0.,      0.,      0.,      0.],\n",
       "       [     0.,  12595.,      0.,      0.,      0.,      0.],\n",
       "       [     0.,  12465.,      0.,      0.,      0.,      0.],\n",
       "       [     0.,      0.,  12550.,      0.,      0.,      0.],\n",
       "       [     0.,  12602.,      0.,      0.,      0.,      0.],\n",
       "       [     0.,      0.,  12552.,      0.,      0.,      0.],\n",
       "       [     0.,      0.,  12559.,      0.,      0.,      0.],\n",
       "       [     0.,      0.,      0.,  12430.,      0.,      0.]])"
      ]
     },
     "execution_count": 73,
     "output_type": "execute_result",
     "metadata": {}
    }
   ],
   "source": [
    "F = np.zeros((8,6))\n",
    "for j in range(0,X.shape[0]):\n",
    "    index = X[j,0] + 2*X[j,1] + 4*X[j,2] \n",
    "    y = Y[j]\n",
    "    F[index,y] = F[index,y] + 1\n",
    "    \n",
    "print('sum of values = ' , sum(F[0,:]))\n",
    "F"
   ]
  },
  {
   "cell_type": "code",
   "execution_count": 74,
   "metadata": {},
   "outputs": [
    {
     "name": "stdout",
     "output_type": "stream",
     "text": [
      "Note: the sum of each column is 1\n"
     ]
    }
   ],
   "source": [
    "# build the likelihood matrix for each \n",
    "print('Note: the sum of each column is 1')\n",
    "Likelihood = np.zeros((8,6))\n",
    "F_marginal = np.sum(F ,axis=0)\n",
    "for i in range(6):\n",
    "    if (F_marginal[i] != 0):\n",
    "        Likelihood[:,i] = np.divide(F[:,i],F_marginal[i])"
   ]
  },
  {
   "cell_type": "code",
   "execution_count": 75,
   "metadata": {},
   "outputs": [
    {
     "data": {
      "text/plain": [
       "array([[ 100.,    0.,    0.,    0.,    0.,    0.],\n",
       "       [   0.,   33.,    0.,    0.,    0.,    0.],\n",
       "       [   0.,   33.,    0.,    0.,    0.,    0.],\n",
       "       [   0.,    0.,   33.,    0.,    0.,    0.],\n",
       "       [   0.,   33.,    0.,    0.,    0.,    0.],\n",
       "       [   0.,    0.,   33.,    0.,    0.,    0.],\n",
       "       [   0.,    0.,   33.,    0.,    0.,    0.],\n",
       "       [   0.,    0.,    0.,  100.,    0.,    0.]])"
      ]
     },
     "execution_count": 75,
     "output_type": "execute_result",
     "metadata": {}
    }
   ],
   "source": [
    "np.round(100*Likelihood)"
   ]
  },
  {
   "cell_type": "code",
   "execution_count": 76,
   "metadata": {},
   "outputs": [],
   "source": [
    "NB_regression = 0\n",
    "Y_est = np.zeros(Y.shape)\n",
    "for i in range(0,X.shape[0]):\n",
    "    Posterior = np.zeros(6)\n",
    "    #for user in tr_x_validate:\n",
    "    index = X[i,0] + 2*X[i,1] + 4*X[i,2] \n",
    "    y = Y[j]\n",
    "    #F[index,y]\n",
    "\n",
    "\n",
    "    for y in range(0,6): # the options for 'y' are {0,1,2,3,4,5}\n",
    "        Posterior[y] = prior[y]*Likelihood[index,y]\n",
    "\n",
    "    if (NB_regression):\n",
    "        s = np.sum(Posterior) \n",
    "        Posterior = Posterior/s\n",
    "        Expected = np.multiply(Posterior,[0,1,2,3,4,5])\n",
    "        Y_est[i] = np.sum(Expected)\n",
    "    else:\n",
    "        g = np.argmax(Posterior)\n",
    "        Y_est[i] = g"
   ]
  },
  {
   "cell_type": "code",
   "execution_count": 77,
   "metadata": {},
   "outputs": [
    {
     "data": {
      "text/plain": [
       "array([ 0.,  0.,  0., ...,  0.,  0.,  0.])"
      ]
     },
     "execution_count": 77,
     "output_type": "execute_result",
     "metadata": {}
    }
   ],
   "source": [
    "Y_est-Y"
   ]
  },
  {
   "cell_type": "code",
   "execution_count": 78,
   "metadata": {},
   "outputs": [
    {
     "ename": "ImportError",
     "evalue": "cannot import name BernulliNB",
     "output_type": "error",
     "traceback": [
      "\u001b[1;31m---------------------------------------------------------------------------\u001b[0m",
      "\u001b[1;31mImportError\u001b[0m                               Traceback (most recent call last)",
      "\u001b[1;32m<ipython-input-78-ef40a7001ae2>\u001b[0m in \u001b[0;36m<module>\u001b[1;34m()\u001b[0m\n\u001b[1;32m----> 1\u001b[1;33m \u001b[1;32mfrom\u001b[0m \u001b[0msklearn\u001b[0m\u001b[1;33m.\u001b[0m\u001b[0mnaive_bayes\u001b[0m \u001b[1;32mimport\u001b[0m \u001b[0mBernulliNB\u001b[0m \u001b[1;31m#GaussianNB\u001b[0m\u001b[1;33m\u001b[0m\u001b[0m\n\u001b[0m",
      "\u001b[1;31mImportError\u001b[0m: cannot import name BernulliNB"
     ]
    }
   ],
   "source": [
    "from sklearn.naive_bayes import BernulliNB #GaussianNB"
   ]
  },
  {
   "cell_type": "markdown",
   "metadata": {},
   "source": [
    "# Remarks and ideas "
   ]
  },
  {
   "cell_type": "code",
   "execution_count": null,
   "metadata": {},
   "outputs": [],
   "source": [
    ""
   ]
  },
  {
   "cell_type": "code",
   "execution_count": null,
   "metadata": {},
   "outputs": [],
   "source": [
    ""
   ]
  },
  {
   "cell_type": "code",
   "execution_count": null,
   "metadata": {},
   "outputs": [],
   "source": [
    ""
   ]
  }
 ],
 "metadata": {
  "kernelspec": {
   "display_name": "Python 2",
   "language": "python",
   "name": "python2"
  },
  "language_info": {
   "codemirror_mode": {
    "name": "ipython",
    "version": 2.0
   },
   "file_extension": ".py",
   "mimetype": "text/x-python",
   "name": "python",
   "nbconvert_exporter": "python",
   "pygments_lexer": "ipython2",
   "version": "2.7.11"
  }
 },
 "nbformat": 4,
 "nbformat_minor": 0
}